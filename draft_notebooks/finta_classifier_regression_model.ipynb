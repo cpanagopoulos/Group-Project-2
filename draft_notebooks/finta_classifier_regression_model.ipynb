{
 "cells": [
  {
   "cell_type": "markdown",
   "metadata": {},
   "source": [
    "# Machine Learning Classifiers for Ethereum Algorithmic Trading\n",
    "\n",
    "## Background\n",
    "\n",
    "In this workbook, we've trained support vector machine (SVM) model to make trading predictions, backtested the results, and then evaluated its performance compared to that of a logistic regression model.\n",
    "\n",
    "## References\n",
    "\n",
    "* [SKLearn SVM - SVC Classifier](https://scikit-learn.org/stable/modules/generated/sklearn.svm.SVC.html)\n",
    "\n",
    "* [SKLearn LogisticRegression](https://scikit-learn.org/stable/modules/generated/sklearn.linear_model.LogisticRegression.html)\n",
    "\n",
    "---"
   ]
  },
  {
   "cell_type": "code",
   "execution_count": 3,
   "metadata": {},
   "outputs": [],
   "source": [
    "# Imports\n",
    "import pandas as pd\n",
    "from pathlib import Path\n",
    "import san"
   ]
  },
  {
   "cell_type": "markdown",
   "metadata": {},
   "source": [
    "### Read the CSV file into Pandas DataFrame"
   ]
  },
  {
   "cell_type": "code",
   "execution_count": 8,
   "metadata": {},
   "outputs": [
    {
     "data": {
      "text/html": [
       "<div>\n",
       "<style scoped>\n",
       "    .dataframe tbody tr th:only-of-type {\n",
       "        vertical-align: middle;\n",
       "    }\n",
       "\n",
       "    .dataframe tbody tr th {\n",
       "        vertical-align: top;\n",
       "    }\n",
       "\n",
       "    .dataframe thead th {\n",
       "        text-align: right;\n",
       "    }\n",
       "</style>\n",
       "<table border=\"1\" class=\"dataframe\">\n",
       "  <thead>\n",
       "    <tr style=\"text-align: right;\">\n",
       "      <th></th>\n",
       "      <th>open</th>\n",
       "      <th>close</th>\n",
       "      <th>high</th>\n",
       "      <th>low</th>\n",
       "      <th>volume</th>\n",
       "      <th>marketcap</th>\n",
       "    </tr>\n",
       "    <tr>\n",
       "      <th>datetime</th>\n",
       "      <th></th>\n",
       "      <th></th>\n",
       "      <th></th>\n",
       "      <th></th>\n",
       "      <th></th>\n",
       "      <th></th>\n",
       "    </tr>\n",
       "  </thead>\n",
       "  <tbody>\n",
       "    <tr>\n",
       "      <th>2018-12-01 00:00:00+00:00</th>\n",
       "      <td>113.397762</td>\n",
       "      <td>118.635559</td>\n",
       "      <td>120.841454</td>\n",
       "      <td>111.541072</td>\n",
       "      <td>2.131476e+09</td>\n",
       "      <td>1.228412e+10</td>\n",
       "    </tr>\n",
       "    <tr>\n",
       "      <th>2018-12-02 00:00:00+00:00</th>\n",
       "      <td>118.268151</td>\n",
       "      <td>116.388899</td>\n",
       "      <td>120.562047</td>\n",
       "      <td>116.092041</td>\n",
       "      <td>1.856199e+09</td>\n",
       "      <td>1.205377e+10</td>\n",
       "    </tr>\n",
       "    <tr>\n",
       "      <th>2018-12-03 00:00:00+00:00</th>\n",
       "      <td>116.398687</td>\n",
       "      <td>108.925018</td>\n",
       "      <td>116.619068</td>\n",
       "      <td>107.312815</td>\n",
       "      <td>1.772756e+09</td>\n",
       "      <td>1.128291e+10</td>\n",
       "    </tr>\n",
       "    <tr>\n",
       "      <th>2018-12-04 00:00:00+00:00</th>\n",
       "      <td>108.756033</td>\n",
       "      <td>110.214190</td>\n",
       "      <td>113.142914</td>\n",
       "      <td>107.402721</td>\n",
       "      <td>1.748116e+09</td>\n",
       "      <td>1.141862e+10</td>\n",
       "    </tr>\n",
       "    <tr>\n",
       "      <th>2018-12-05 00:00:00+00:00</th>\n",
       "      <td>110.335518</td>\n",
       "      <td>102.475556</td>\n",
       "      <td>110.641389</td>\n",
       "      <td>102.475556</td>\n",
       "      <td>1.990158e+09</td>\n",
       "      <td>1.061888e+10</td>\n",
       "    </tr>\n",
       "  </tbody>\n",
       "</table>\n",
       "</div>"
      ],
      "text/plain": [
       "                                 open       close        high         low  \\\n",
       "datetime                                                                    \n",
       "2018-12-01 00:00:00+00:00  113.397762  118.635559  120.841454  111.541072   \n",
       "2018-12-02 00:00:00+00:00  118.268151  116.388899  120.562047  116.092041   \n",
       "2018-12-03 00:00:00+00:00  116.398687  108.925018  116.619068  107.312815   \n",
       "2018-12-04 00:00:00+00:00  108.756033  110.214190  113.142914  107.402721   \n",
       "2018-12-05 00:00:00+00:00  110.335518  102.475556  110.641389  102.475556   \n",
       "\n",
       "                                 volume     marketcap  \n",
       "datetime                                               \n",
       "2018-12-01 00:00:00+00:00  2.131476e+09  1.228412e+10  \n",
       "2018-12-02 00:00:00+00:00  1.856199e+09  1.205377e+10  \n",
       "2018-12-03 00:00:00+00:00  1.772756e+09  1.128291e+10  \n",
       "2018-12-04 00:00:00+00:00  1.748116e+09  1.141862e+10  \n",
       "2018-12-05 00:00:00+00:00  1.990158e+09  1.061888e+10  "
      ]
     },
     "execution_count": 8,
     "metadata": {},
     "output_type": "execute_result"
    }
   ],
   "source": [
    "# Import the OHLCV dataset into a Pandas Dataframe\n",
    "trading_df = san.get(\n",
    "    \"ohlcv/ethereum\",\n",
    "    from_date=\"2018-12-01\",\n",
    "    to_date=\"2021-12-01\",\n",
    "    interval=\"1d\"\n",
    ")\n",
    "\n",
    "trading_df.columns = ['open', 'close', 'high', 'low', 'volume', 'marketcap']\n",
    "\n",
    "# Review the DataFrame\n",
    "trading_df.head()"
   ]
  },
  {
   "cell_type": "markdown",
   "metadata": {},
   "source": [
    "### Add a daily return values column to the DataFrame"
   ]
  },
  {
   "cell_type": "code",
   "execution_count": 9,
   "metadata": {},
   "outputs": [
    {
     "data": {
      "text/html": [
       "<div>\n",
       "<style scoped>\n",
       "    .dataframe tbody tr th:only-of-type {\n",
       "        vertical-align: middle;\n",
       "    }\n",
       "\n",
       "    .dataframe tbody tr th {\n",
       "        vertical-align: top;\n",
       "    }\n",
       "\n",
       "    .dataframe thead th {\n",
       "        text-align: right;\n",
       "    }\n",
       "</style>\n",
       "<table border=\"1\" class=\"dataframe\">\n",
       "  <thead>\n",
       "    <tr style=\"text-align: right;\">\n",
       "      <th></th>\n",
       "      <th>open</th>\n",
       "      <th>close</th>\n",
       "      <th>high</th>\n",
       "      <th>low</th>\n",
       "      <th>volume</th>\n",
       "      <th>marketcap</th>\n",
       "      <th>actual_returns</th>\n",
       "    </tr>\n",
       "    <tr>\n",
       "      <th>datetime</th>\n",
       "      <th></th>\n",
       "      <th></th>\n",
       "      <th></th>\n",
       "      <th></th>\n",
       "      <th></th>\n",
       "      <th></th>\n",
       "      <th></th>\n",
       "    </tr>\n",
       "  </thead>\n",
       "  <tbody>\n",
       "    <tr>\n",
       "      <th>2018-12-02 00:00:00+00:00</th>\n",
       "      <td>118.268151</td>\n",
       "      <td>116.388899</td>\n",
       "      <td>120.562047</td>\n",
       "      <td>116.092041</td>\n",
       "      <td>1.856199e+09</td>\n",
       "      <td>1.205377e+10</td>\n",
       "      <td>-0.018937</td>\n",
       "    </tr>\n",
       "    <tr>\n",
       "      <th>2018-12-03 00:00:00+00:00</th>\n",
       "      <td>116.398687</td>\n",
       "      <td>108.925018</td>\n",
       "      <td>116.619068</td>\n",
       "      <td>107.312815</td>\n",
       "      <td>1.772756e+09</td>\n",
       "      <td>1.128291e+10</td>\n",
       "      <td>-0.064129</td>\n",
       "    </tr>\n",
       "    <tr>\n",
       "      <th>2018-12-04 00:00:00+00:00</th>\n",
       "      <td>108.756033</td>\n",
       "      <td>110.214190</td>\n",
       "      <td>113.142914</td>\n",
       "      <td>107.402721</td>\n",
       "      <td>1.748116e+09</td>\n",
       "      <td>1.141862e+10</td>\n",
       "      <td>0.011835</td>\n",
       "    </tr>\n",
       "    <tr>\n",
       "      <th>2018-12-05 00:00:00+00:00</th>\n",
       "      <td>110.335518</td>\n",
       "      <td>102.475556</td>\n",
       "      <td>110.641389</td>\n",
       "      <td>102.475556</td>\n",
       "      <td>1.990158e+09</td>\n",
       "      <td>1.061888e+10</td>\n",
       "      <td>-0.070214</td>\n",
       "    </tr>\n",
       "    <tr>\n",
       "      <th>2018-12-06 00:00:00+00:00</th>\n",
       "      <td>102.422572</td>\n",
       "      <td>91.804131</td>\n",
       "      <td>104.103496</td>\n",
       "      <td>91.761056</td>\n",
       "      <td>2.311803e+09</td>\n",
       "      <td>9.514882e+09</td>\n",
       "      <td>-0.104136</td>\n",
       "    </tr>\n",
       "  </tbody>\n",
       "</table>\n",
       "</div>"
      ],
      "text/plain": [
       "                                 open       close        high         low  \\\n",
       "datetime                                                                    \n",
       "2018-12-02 00:00:00+00:00  118.268151  116.388899  120.562047  116.092041   \n",
       "2018-12-03 00:00:00+00:00  116.398687  108.925018  116.619068  107.312815   \n",
       "2018-12-04 00:00:00+00:00  108.756033  110.214190  113.142914  107.402721   \n",
       "2018-12-05 00:00:00+00:00  110.335518  102.475556  110.641389  102.475556   \n",
       "2018-12-06 00:00:00+00:00  102.422572   91.804131  104.103496   91.761056   \n",
       "\n",
       "                                 volume     marketcap  actual_returns  \n",
       "datetime                                                               \n",
       "2018-12-02 00:00:00+00:00  1.856199e+09  1.205377e+10       -0.018937  \n",
       "2018-12-03 00:00:00+00:00  1.772756e+09  1.128291e+10       -0.064129  \n",
       "2018-12-04 00:00:00+00:00  1.748116e+09  1.141862e+10        0.011835  \n",
       "2018-12-05 00:00:00+00:00  1.990158e+09  1.061888e+10       -0.070214  \n",
       "2018-12-06 00:00:00+00:00  2.311803e+09  9.514882e+09       -0.104136  "
      ]
     },
     "metadata": {},
     "output_type": "display_data"
    },
    {
     "data": {
      "text/html": [
       "<div>\n",
       "<style scoped>\n",
       "    .dataframe tbody tr th:only-of-type {\n",
       "        vertical-align: middle;\n",
       "    }\n",
       "\n",
       "    .dataframe tbody tr th {\n",
       "        vertical-align: top;\n",
       "    }\n",
       "\n",
       "    .dataframe thead th {\n",
       "        text-align: right;\n",
       "    }\n",
       "</style>\n",
       "<table border=\"1\" class=\"dataframe\">\n",
       "  <thead>\n",
       "    <tr style=\"text-align: right;\">\n",
       "      <th></th>\n",
       "      <th>open</th>\n",
       "      <th>close</th>\n",
       "      <th>high</th>\n",
       "      <th>low</th>\n",
       "      <th>volume</th>\n",
       "      <th>marketcap</th>\n",
       "      <th>actual_returns</th>\n",
       "    </tr>\n",
       "    <tr>\n",
       "      <th>datetime</th>\n",
       "      <th></th>\n",
       "      <th></th>\n",
       "      <th></th>\n",
       "      <th></th>\n",
       "      <th></th>\n",
       "      <th></th>\n",
       "      <th></th>\n",
       "    </tr>\n",
       "  </thead>\n",
       "  <tbody>\n",
       "    <tr>\n",
       "      <th>2021-11-27 00:00:00+00:00</th>\n",
       "      <td>4051.504075</td>\n",
       "      <td>4096.912088</td>\n",
       "      <td>4183.617228</td>\n",
       "      <td>4039.785363</td>\n",
       "      <td>1.651569e+10</td>\n",
       "      <td>4.855480e+11</td>\n",
       "      <td>0.016374</td>\n",
       "    </tr>\n",
       "    <tr>\n",
       "      <th>2021-11-28 00:00:00+00:00</th>\n",
       "      <td>4101.648807</td>\n",
       "      <td>4294.453696</td>\n",
       "      <td>4296.864380</td>\n",
       "      <td>3995.281552</td>\n",
       "      <td>1.595313e+10</td>\n",
       "      <td>5.090167e+11</td>\n",
       "      <td>0.048217</td>\n",
       "    </tr>\n",
       "    <tr>\n",
       "      <th>2021-11-29 00:00:00+00:00</th>\n",
       "      <td>4296.946820</td>\n",
       "      <td>4445.105008</td>\n",
       "      <td>4458.878297</td>\n",
       "      <td>4288.870364</td>\n",
       "      <td>1.908648e+10</td>\n",
       "      <td>5.269313e+11</td>\n",
       "      <td>0.035080</td>\n",
       "    </tr>\n",
       "    <tr>\n",
       "      <th>2021-11-30 00:00:00+00:00</th>\n",
       "      <td>4442.159127</td>\n",
       "      <td>4631.478795</td>\n",
       "      <td>4735.379577</td>\n",
       "      <td>4359.853336</td>\n",
       "      <td>2.862635e+10</td>\n",
       "      <td>5.490858e+11</td>\n",
       "      <td>0.041928</td>\n",
       "    </tr>\n",
       "    <tr>\n",
       "      <th>2021-12-01 00:00:00+00:00</th>\n",
       "      <td>4623.679444</td>\n",
       "      <td>4586.990131</td>\n",
       "      <td>4777.826422</td>\n",
       "      <td>4530.272580</td>\n",
       "      <td>2.763483e+10</td>\n",
       "      <td>5.438712e+11</td>\n",
       "      <td>-0.009606</td>\n",
       "    </tr>\n",
       "  </tbody>\n",
       "</table>\n",
       "</div>"
      ],
      "text/plain": [
       "                                  open        close         high          low  \\\n",
       "datetime                                                                        \n",
       "2021-11-27 00:00:00+00:00  4051.504075  4096.912088  4183.617228  4039.785363   \n",
       "2021-11-28 00:00:00+00:00  4101.648807  4294.453696  4296.864380  3995.281552   \n",
       "2021-11-29 00:00:00+00:00  4296.946820  4445.105008  4458.878297  4288.870364   \n",
       "2021-11-30 00:00:00+00:00  4442.159127  4631.478795  4735.379577  4359.853336   \n",
       "2021-12-01 00:00:00+00:00  4623.679444  4586.990131  4777.826422  4530.272580   \n",
       "\n",
       "                                 volume     marketcap  actual_returns  \n",
       "datetime                                                               \n",
       "2021-11-27 00:00:00+00:00  1.651569e+10  4.855480e+11        0.016374  \n",
       "2021-11-28 00:00:00+00:00  1.595313e+10  5.090167e+11        0.048217  \n",
       "2021-11-29 00:00:00+00:00  1.908648e+10  5.269313e+11        0.035080  \n",
       "2021-11-30 00:00:00+00:00  2.862635e+10  5.490858e+11        0.041928  \n",
       "2021-12-01 00:00:00+00:00  2.763483e+10  5.438712e+11       -0.009606  "
      ]
     },
     "metadata": {},
     "output_type": "display_data"
    }
   ],
   "source": [
    "# Calculate the daily returns using the closing prices and the pct_change function\n",
    "trading_df[\"actual_returns\"] = trading_df[\"close\"].pct_change()\n",
    "\n",
    "# Drop all NaN values from the DataFrame\n",
    "trading_df = trading_df.dropna()\n",
    "\n",
    "# Review the DataFrame\n",
    "display(trading_df.head())\n",
    "display(trading_df.tail())"
   ]
  },
  {
   "cell_type": "markdown",
   "metadata": {},
   "source": [
    "---\n",
    "\n",
    "### Generating the Features and Target Sets"
   ]
  },
  {
   "cell_type": "code",
   "execution_count": 10,
   "metadata": {},
   "outputs": [],
   "source": [
    "# Import the finta Python library and the TA module\n",
    "from finta import TA"
   ]
  },
  {
   "cell_type": "code",
   "execution_count": 14,
   "metadata": {},
   "outputs": [],
   "source": [
    "# Create a signals_df DataFrame that is a copy of the ixn_df Dataframe\n",
    "signals_df = trading_df.copy()\n",
    "\n",
    "# Set the short window and long windows\n",
    "short_window = 50\n",
    "long_window = 200\n",
    "\n",
    "# Add the SMA technical indicators for the short and long windows\n",
    "signals_df[\"sma_fast\"] = TA.SMA(signals_df, short_window)\n",
    "signals_df[\"sma_slow\"] = TA.SMA(signals_df, long_window)"
   ]
  },
  {
   "cell_type": "code",
   "execution_count": 15,
   "metadata": {},
   "outputs": [
    {
     "data": {
      "text/html": [
       "<div>\n",
       "<style scoped>\n",
       "    .dataframe tbody tr th:only-of-type {\n",
       "        vertical-align: middle;\n",
       "    }\n",
       "\n",
       "    .dataframe tbody tr th {\n",
       "        vertical-align: top;\n",
       "    }\n",
       "\n",
       "    .dataframe thead th {\n",
       "        text-align: right;\n",
       "    }\n",
       "</style>\n",
       "<table border=\"1\" class=\"dataframe\">\n",
       "  <thead>\n",
       "    <tr style=\"text-align: right;\">\n",
       "      <th></th>\n",
       "      <th>open</th>\n",
       "      <th>close</th>\n",
       "      <th>high</th>\n",
       "      <th>low</th>\n",
       "      <th>volume</th>\n",
       "      <th>marketcap</th>\n",
       "      <th>actual_returns</th>\n",
       "      <th>sma_fast</th>\n",
       "      <th>sma_slow</th>\n",
       "    </tr>\n",
       "    <tr>\n",
       "      <th>datetime</th>\n",
       "      <th></th>\n",
       "      <th></th>\n",
       "      <th></th>\n",
       "      <th></th>\n",
       "      <th></th>\n",
       "      <th></th>\n",
       "      <th></th>\n",
       "      <th></th>\n",
       "      <th></th>\n",
       "    </tr>\n",
       "  </thead>\n",
       "  <tbody>\n",
       "    <tr>\n",
       "      <th>2019-06-19 00:00:00+00:00</th>\n",
       "      <td>265.071659</td>\n",
       "      <td>269.431798</td>\n",
       "      <td>270.309516</td>\n",
       "      <td>264.817435</td>\n",
       "      <td>5.516511e+09</td>\n",
       "      <td>2.871078e+10</td>\n",
       "      <td>0.016525</td>\n",
       "      <td>234.051936</td>\n",
       "      <td>158.616174</td>\n",
       "    </tr>\n",
       "    <tr>\n",
       "      <th>2019-06-20 00:00:00+00:00</th>\n",
       "      <td>268.840289</td>\n",
       "      <td>271.695017</td>\n",
       "      <td>274.008043</td>\n",
       "      <td>265.628857</td>\n",
       "      <td>6.408981e+09</td>\n",
       "      <td>2.895566e+10</td>\n",
       "      <td>0.008400</td>\n",
       "      <td>236.269469</td>\n",
       "      <td>159.392705</td>\n",
       "    </tr>\n",
       "    <tr>\n",
       "      <th>2019-06-21 00:00:00+00:00</th>\n",
       "      <td>272.057850</td>\n",
       "      <td>294.910280</td>\n",
       "      <td>295.303302</td>\n",
       "      <td>272.057850</td>\n",
       "      <td>9.331694e+09</td>\n",
       "      <td>3.143377e+10</td>\n",
       "      <td>0.085446</td>\n",
       "      <td>238.926172</td>\n",
       "      <td>160.322631</td>\n",
       "    </tr>\n",
       "    <tr>\n",
       "      <th>2019-06-22 00:00:00+00:00</th>\n",
       "      <td>295.908297</td>\n",
       "      <td>309.380305</td>\n",
       "      <td>315.189720</td>\n",
       "      <td>294.728230</td>\n",
       "      <td>1.061373e+10</td>\n",
       "      <td>3.298034e+10</td>\n",
       "      <td>0.049066</td>\n",
       "      <td>241.754730</td>\n",
       "      <td>161.318462</td>\n",
       "    </tr>\n",
       "    <tr>\n",
       "      <th>2019-06-23 00:00:00+00:00</th>\n",
       "      <td>309.900854</td>\n",
       "      <td>307.827784</td>\n",
       "      <td>318.436039</td>\n",
       "      <td>305.764594</td>\n",
       "      <td>8.161062e+09</td>\n",
       "      <td>3.281904e+10</td>\n",
       "      <td>-0.005018</td>\n",
       "      <td>244.630754</td>\n",
       "      <td>162.345223</td>\n",
       "    </tr>\n",
       "  </tbody>\n",
       "</table>\n",
       "</div>"
      ],
      "text/plain": [
       "                                 open       close        high         low  \\\n",
       "datetime                                                                    \n",
       "2019-06-19 00:00:00+00:00  265.071659  269.431798  270.309516  264.817435   \n",
       "2019-06-20 00:00:00+00:00  268.840289  271.695017  274.008043  265.628857   \n",
       "2019-06-21 00:00:00+00:00  272.057850  294.910280  295.303302  272.057850   \n",
       "2019-06-22 00:00:00+00:00  295.908297  309.380305  315.189720  294.728230   \n",
       "2019-06-23 00:00:00+00:00  309.900854  307.827784  318.436039  305.764594   \n",
       "\n",
       "                                 volume     marketcap  actual_returns  \\\n",
       "datetime                                                                \n",
       "2019-06-19 00:00:00+00:00  5.516511e+09  2.871078e+10        0.016525   \n",
       "2019-06-20 00:00:00+00:00  6.408981e+09  2.895566e+10        0.008400   \n",
       "2019-06-21 00:00:00+00:00  9.331694e+09  3.143377e+10        0.085446   \n",
       "2019-06-22 00:00:00+00:00  1.061373e+10  3.298034e+10        0.049066   \n",
       "2019-06-23 00:00:00+00:00  8.161062e+09  3.281904e+10       -0.005018   \n",
       "\n",
       "                             sma_fast    sma_slow  \n",
       "datetime                                           \n",
       "2019-06-19 00:00:00+00:00  234.051936  158.616174  \n",
       "2019-06-20 00:00:00+00:00  236.269469  159.392705  \n",
       "2019-06-21 00:00:00+00:00  238.926172  160.322631  \n",
       "2019-06-22 00:00:00+00:00  241.754730  161.318462  \n",
       "2019-06-23 00:00:00+00:00  244.630754  162.345223  "
      ]
     },
     "execution_count": 15,
     "metadata": {},
     "output_type": "execute_result"
    }
   ],
   "source": [
    "# Drop the NaNs using dropna()\n",
    "signals_df = signals_df.dropna()\n",
    "signals_df.head()"
   ]
  },
  {
   "cell_type": "markdown",
   "metadata": {},
   "source": [
    "#### Create the features set"
   ]
  },
  {
   "cell_type": "code",
   "execution_count": 16,
   "metadata": {},
   "outputs": [
    {
     "data": {
      "text/html": [
       "<div>\n",
       "<style scoped>\n",
       "    .dataframe tbody tr th:only-of-type {\n",
       "        vertical-align: middle;\n",
       "    }\n",
       "\n",
       "    .dataframe tbody tr th {\n",
       "        vertical-align: top;\n",
       "    }\n",
       "\n",
       "    .dataframe thead th {\n",
       "        text-align: right;\n",
       "    }\n",
       "</style>\n",
       "<table border=\"1\" class=\"dataframe\">\n",
       "  <thead>\n",
       "    <tr style=\"text-align: right;\">\n",
       "      <th></th>\n",
       "      <th>sma_fast</th>\n",
       "      <th>sma_slow</th>\n",
       "    </tr>\n",
       "    <tr>\n",
       "      <th>datetime</th>\n",
       "      <th></th>\n",
       "      <th></th>\n",
       "    </tr>\n",
       "  </thead>\n",
       "  <tbody>\n",
       "    <tr>\n",
       "      <th>2019-06-19 00:00:00+00:00</th>\n",
       "      <td>234.051936</td>\n",
       "      <td>158.616174</td>\n",
       "    </tr>\n",
       "    <tr>\n",
       "      <th>2019-06-20 00:00:00+00:00</th>\n",
       "      <td>236.269469</td>\n",
       "      <td>159.392705</td>\n",
       "    </tr>\n",
       "    <tr>\n",
       "      <th>2019-06-21 00:00:00+00:00</th>\n",
       "      <td>238.926172</td>\n",
       "      <td>160.322631</td>\n",
       "    </tr>\n",
       "    <tr>\n",
       "      <th>2019-06-22 00:00:00+00:00</th>\n",
       "      <td>241.754730</td>\n",
       "      <td>161.318462</td>\n",
       "    </tr>\n",
       "    <tr>\n",
       "      <th>2019-06-23 00:00:00+00:00</th>\n",
       "      <td>244.630754</td>\n",
       "      <td>162.345223</td>\n",
       "    </tr>\n",
       "  </tbody>\n",
       "</table>\n",
       "</div>"
      ],
      "text/plain": [
       "                             sma_fast    sma_slow\n",
       "datetime                                         \n",
       "2019-06-19 00:00:00+00:00  234.051936  158.616174\n",
       "2019-06-20 00:00:00+00:00  236.269469  159.392705\n",
       "2019-06-21 00:00:00+00:00  238.926172  160.322631\n",
       "2019-06-22 00:00:00+00:00  241.754730  161.318462\n",
       "2019-06-23 00:00:00+00:00  244.630754  162.345223"
      ]
     },
     "metadata": {},
     "output_type": "display_data"
    },
    {
     "data": {
      "text/html": [
       "<div>\n",
       "<style scoped>\n",
       "    .dataframe tbody tr th:only-of-type {\n",
       "        vertical-align: middle;\n",
       "    }\n",
       "\n",
       "    .dataframe tbody tr th {\n",
       "        vertical-align: top;\n",
       "    }\n",
       "\n",
       "    .dataframe thead th {\n",
       "        text-align: right;\n",
       "    }\n",
       "</style>\n",
       "<table border=\"1\" class=\"dataframe\">\n",
       "  <thead>\n",
       "    <tr style=\"text-align: right;\">\n",
       "      <th></th>\n",
       "      <th>sma_fast</th>\n",
       "      <th>sma_slow</th>\n",
       "    </tr>\n",
       "    <tr>\n",
       "      <th>datetime</th>\n",
       "      <th></th>\n",
       "      <th></th>\n",
       "    </tr>\n",
       "  </thead>\n",
       "  <tbody>\n",
       "    <tr>\n",
       "      <th>2021-11-27 00:00:00+00:00</th>\n",
       "      <td>4211.379447</td>\n",
       "      <td>3144.467955</td>\n",
       "    </tr>\n",
       "    <tr>\n",
       "      <th>2021-11-28 00:00:00+00:00</th>\n",
       "      <td>4225.754184</td>\n",
       "      <td>3147.010981</td>\n",
       "    </tr>\n",
       "    <tr>\n",
       "      <th>2021-11-29 00:00:00+00:00</th>\n",
       "      <td>4246.139227</td>\n",
       "      <td>3150.660763</td>\n",
       "    </tr>\n",
       "    <tr>\n",
       "      <th>2021-11-30 00:00:00+00:00</th>\n",
       "      <td>4267.861722</td>\n",
       "      <td>3153.422870</td>\n",
       "    </tr>\n",
       "    <tr>\n",
       "      <th>2021-12-01 00:00:00+00:00</th>\n",
       "      <td>4289.750059</td>\n",
       "      <td>3158.167211</td>\n",
       "    </tr>\n",
       "  </tbody>\n",
       "</table>\n",
       "</div>"
      ],
      "text/plain": [
       "                              sma_fast     sma_slow\n",
       "datetime                                           \n",
       "2021-11-27 00:00:00+00:00  4211.379447  3144.467955\n",
       "2021-11-28 00:00:00+00:00  4225.754184  3147.010981\n",
       "2021-11-29 00:00:00+00:00  4246.139227  3150.660763\n",
       "2021-11-30 00:00:00+00:00  4267.861722  3153.422870\n",
       "2021-12-01 00:00:00+00:00  4289.750059  3158.167211"
      ]
     },
     "metadata": {},
     "output_type": "display_data"
    }
   ],
   "source": [
    "# Assign a copy of the sma_fast and sma_slow columns to a new DataFrame called X\n",
    "X = signals_df[[\"sma_fast\", \"sma_slow\"]].copy()\n",
    "\n",
    "# Display sample data\n",
    "display(X.head())\n",
    "display(X.tail())"
   ]
  },
  {
   "cell_type": "markdown",
   "metadata": {},
   "source": [
    "#### Create the target set"
   ]
  },
  {
   "cell_type": "code",
   "execution_count": 18,
   "metadata": {},
   "outputs": [],
   "source": [
    "# Create a new column in the trading_df called signal setting its value to zero.\n",
    "signals_df[\"signal\"] = 0.0"
   ]
  },
  {
   "cell_type": "code",
   "execution_count": 19,
   "metadata": {},
   "outputs": [],
   "source": [
    "# Create the signal to buy\n",
    "signals_df.loc[(trading_df[\"actual_returns\"] >= 0), \"signal\"] = 1"
   ]
  },
  {
   "cell_type": "code",
   "execution_count": 20,
   "metadata": {},
   "outputs": [],
   "source": [
    "# Create the signal to sell\n",
    "signals_df.loc[(trading_df[\"actual_returns\"] < 0), \"signal\"] = -1"
   ]
  },
  {
   "cell_type": "code",
   "execution_count": 21,
   "metadata": {},
   "outputs": [],
   "source": [
    "# Copy the new signal column to a new Series called y.\n",
    "y = signals_df[\"signal\"].copy()"
   ]
  },
  {
   "cell_type": "markdown",
   "metadata": {},
   "source": [
    "---\n",
    "\n",
    "### Split the Data Into Training and Testing Datasets"
   ]
  },
  {
   "cell_type": "markdown",
   "metadata": {},
   "source": [
    "#### Creating the Training Datasets"
   ]
  },
  {
   "cell_type": "code",
   "execution_count": 22,
   "metadata": {},
   "outputs": [],
   "source": [
    "# Imports \n",
    "from pandas.tseries.offsets import DateOffset"
   ]
  },
  {
   "cell_type": "code",
   "execution_count": 23,
   "metadata": {},
   "outputs": [
    {
     "name": "stdout",
     "output_type": "stream",
     "text": [
      "2019-06-19 00:00:00+00:00\n"
     ]
    }
   ],
   "source": [
    "# Select the start of the training period\n",
    "training_begin = X.index.min()\n",
    "\n",
    "# Display the training begin date\n",
    "print(training_begin)"
   ]
  },
  {
   "cell_type": "code",
   "execution_count": 24,
   "metadata": {},
   "outputs": [
    {
     "name": "stdout",
     "output_type": "stream",
     "text": [
      "2019-09-19 00:00:00+00:00\n"
     ]
    }
   ],
   "source": [
    "# Select the ending period for the training data with an offset of 3 months\n",
    "training_end = X.index.min() + DateOffset(months=3)\n",
    "\n",
    "# Display the training end date\n",
    "print(training_end)"
   ]
  },
  {
   "cell_type": "code",
   "execution_count": 25,
   "metadata": {},
   "outputs": [
    {
     "data": {
      "text/html": [
       "<div>\n",
       "<style scoped>\n",
       "    .dataframe tbody tr th:only-of-type {\n",
       "        vertical-align: middle;\n",
       "    }\n",
       "\n",
       "    .dataframe tbody tr th {\n",
       "        vertical-align: top;\n",
       "    }\n",
       "\n",
       "    .dataframe thead th {\n",
       "        text-align: right;\n",
       "    }\n",
       "</style>\n",
       "<table border=\"1\" class=\"dataframe\">\n",
       "  <thead>\n",
       "    <tr style=\"text-align: right;\">\n",
       "      <th></th>\n",
       "      <th>sma_fast</th>\n",
       "      <th>sma_slow</th>\n",
       "    </tr>\n",
       "    <tr>\n",
       "      <th>datetime</th>\n",
       "      <th></th>\n",
       "      <th></th>\n",
       "    </tr>\n",
       "  </thead>\n",
       "  <tbody>\n",
       "    <tr>\n",
       "      <th>2019-06-19 00:00:00+00:00</th>\n",
       "      <td>234.051936</td>\n",
       "      <td>158.616174</td>\n",
       "    </tr>\n",
       "    <tr>\n",
       "      <th>2019-06-20 00:00:00+00:00</th>\n",
       "      <td>236.269469</td>\n",
       "      <td>159.392705</td>\n",
       "    </tr>\n",
       "    <tr>\n",
       "      <th>2019-06-21 00:00:00+00:00</th>\n",
       "      <td>238.926172</td>\n",
       "      <td>160.322631</td>\n",
       "    </tr>\n",
       "    <tr>\n",
       "      <th>2019-06-22 00:00:00+00:00</th>\n",
       "      <td>241.754730</td>\n",
       "      <td>161.318462</td>\n",
       "    </tr>\n",
       "    <tr>\n",
       "      <th>2019-06-23 00:00:00+00:00</th>\n",
       "      <td>244.630754</td>\n",
       "      <td>162.345223</td>\n",
       "    </tr>\n",
       "  </tbody>\n",
       "</table>\n",
       "</div>"
      ],
      "text/plain": [
       "                             sma_fast    sma_slow\n",
       "datetime                                         \n",
       "2019-06-19 00:00:00+00:00  234.051936  158.616174\n",
       "2019-06-20 00:00:00+00:00  236.269469  159.392705\n",
       "2019-06-21 00:00:00+00:00  238.926172  160.322631\n",
       "2019-06-22 00:00:00+00:00  241.754730  161.318462\n",
       "2019-06-23 00:00:00+00:00  244.630754  162.345223"
      ]
     },
     "execution_count": 25,
     "metadata": {},
     "output_type": "execute_result"
    }
   ],
   "source": [
    "# Generate the X_train and y_train DataFrames\n",
    "X_train = X.loc[training_begin:training_end]\n",
    "y_train = y.loc[training_begin:training_end]\n",
    "\n",
    "# Display sample data\n",
    "X_train.head()"
   ]
  },
  {
   "cell_type": "markdown",
   "metadata": {},
   "source": [
    "#### Creating the Testing Datasets"
   ]
  },
  {
   "cell_type": "code",
   "execution_count": 26,
   "metadata": {},
   "outputs": [
    {
     "data": {
      "text/html": [
       "<div>\n",
       "<style scoped>\n",
       "    .dataframe tbody tr th:only-of-type {\n",
       "        vertical-align: middle;\n",
       "    }\n",
       "\n",
       "    .dataframe tbody tr th {\n",
       "        vertical-align: top;\n",
       "    }\n",
       "\n",
       "    .dataframe thead th {\n",
       "        text-align: right;\n",
       "    }\n",
       "</style>\n",
       "<table border=\"1\" class=\"dataframe\">\n",
       "  <thead>\n",
       "    <tr style=\"text-align: right;\">\n",
       "      <th></th>\n",
       "      <th>sma_fast</th>\n",
       "      <th>sma_slow</th>\n",
       "    </tr>\n",
       "    <tr>\n",
       "      <th>datetime</th>\n",
       "      <th></th>\n",
       "      <th></th>\n",
       "    </tr>\n",
       "  </thead>\n",
       "  <tbody>\n",
       "    <tr>\n",
       "      <th>2019-09-19 00:00:00+00:00</th>\n",
       "      <td>194.433018</td>\n",
       "      <td>206.540982</td>\n",
       "    </tr>\n",
       "    <tr>\n",
       "      <th>2019-09-20 00:00:00+00:00</th>\n",
       "      <td>194.437851</td>\n",
       "      <td>206.994934</td>\n",
       "    </tr>\n",
       "    <tr>\n",
       "      <th>2019-09-21 00:00:00+00:00</th>\n",
       "      <td>194.390264</td>\n",
       "      <td>207.383026</td>\n",
       "    </tr>\n",
       "    <tr>\n",
       "      <th>2019-09-22 00:00:00+00:00</th>\n",
       "      <td>194.174721</td>\n",
       "      <td>207.747646</td>\n",
       "    </tr>\n",
       "    <tr>\n",
       "      <th>2019-09-23 00:00:00+00:00</th>\n",
       "      <td>193.759753</td>\n",
       "      <td>208.067080</td>\n",
       "    </tr>\n",
       "  </tbody>\n",
       "</table>\n",
       "</div>"
      ],
      "text/plain": [
       "                             sma_fast    sma_slow\n",
       "datetime                                         \n",
       "2019-09-19 00:00:00+00:00  194.433018  206.540982\n",
       "2019-09-20 00:00:00+00:00  194.437851  206.994934\n",
       "2019-09-21 00:00:00+00:00  194.390264  207.383026\n",
       "2019-09-22 00:00:00+00:00  194.174721  207.747646\n",
       "2019-09-23 00:00:00+00:00  193.759753  208.067080"
      ]
     },
     "execution_count": 26,
     "metadata": {},
     "output_type": "execute_result"
    }
   ],
   "source": [
    "# Generate the X_test and y_test DataFrames\n",
    "X_test = X.loc[training_end:]\n",
    "y_test = y.loc[training_end:]\n",
    "\n",
    "# Display sample data\n",
    "X_test.head()"
   ]
  },
  {
   "cell_type": "markdown",
   "metadata": {},
   "source": [
    "#### Standardizing the Data"
   ]
  },
  {
   "cell_type": "code",
   "execution_count": 27,
   "metadata": {},
   "outputs": [],
   "source": [
    "# Imports\n",
    "from sklearn.preprocessing import StandardScaler"
   ]
  },
  {
   "cell_type": "code",
   "execution_count": 28,
   "metadata": {},
   "outputs": [],
   "source": [
    "# Create a StandardScaler instance\n",
    "scaler = StandardScaler()\n",
    " \n",
    "# Apply the scaler model to fit the X-train data\n",
    "X_scaler = scaler.fit(X_train)\n",
    " \n",
    "# Transform the X_train and X_test DataFrames using the X_scaler\n",
    "X_train_scaled = X_scaler.transform(X_train)\n",
    "X_test_scaled = X_scaler.transform(X_test)"
   ]
  },
  {
   "cell_type": "markdown",
   "metadata": {},
   "source": [
    "---\n",
    "\n",
    "### Incorporate the SVM Machine Learning Into the Trading Strategy"
   ]
  },
  {
   "cell_type": "code",
   "execution_count": 29,
   "metadata": {},
   "outputs": [],
   "source": [
    "# Imports\n",
    "from sklearn import svm\n",
    "from sklearn.metrics import classification_report"
   ]
  },
  {
   "cell_type": "code",
   "execution_count": 30,
   "metadata": {},
   "outputs": [
    {
     "data": {
      "text/plain": [
       "array([1., 1., 1., 1., 1., 1., 1., 1., 1., 1.])"
      ]
     },
     "execution_count": 30,
     "metadata": {},
     "output_type": "execute_result"
    }
   ],
   "source": [
    "# Create the classifier model\n",
    "svm_model = svm.SVC()\n",
    " \n",
    "# Fit the model to the data using X_train_scaled and y_train\n",
    "svm_model = svm_model.fit(X_train_scaled, y_train)\n",
    "\n",
    "# Use the trained model to predict the trading signals for the training data\n",
    "training_signal_predictions = svm_model.predict(X_train_scaled)\n",
    "\n",
    "# Display the sample predictions\n",
    "training_signal_predictions[:10]"
   ]
  },
  {
   "cell_type": "code",
   "execution_count": 31,
   "metadata": {},
   "outputs": [
    {
     "name": "stdout",
     "output_type": "stream",
     "text": [
      "              precision    recall  f1-score   support\n",
      "\n",
      "        -1.0       0.58      0.26      0.36        42\n",
      "         1.0       0.58      0.84      0.69        51\n",
      "\n",
      "    accuracy                           0.58        93\n",
      "   macro avg       0.58      0.55      0.52        93\n",
      "weighted avg       0.58      0.58      0.54        93\n",
      "\n"
     ]
    }
   ],
   "source": [
    "# Evaluate the model using a classification report\n",
    "training_report = classification_report(y_train, training_signal_predictions)\n",
    "print(training_report)"
   ]
  },
  {
   "cell_type": "markdown",
   "metadata": {},
   "source": [
    "---\n",
    "\n",
    "### Backtesting a Machine Learning Trading Algorithm"
   ]
  },
  {
   "cell_type": "code",
   "execution_count": 32,
   "metadata": {},
   "outputs": [],
   "source": [
    "# Use the trained model to predict the trading signals for the testing data.\n",
    "testing_signal_predictions = svm_model.predict(X_test_scaled)"
   ]
  },
  {
   "cell_type": "code",
   "execution_count": 33,
   "metadata": {},
   "outputs": [
    {
     "name": "stdout",
     "output_type": "stream",
     "text": [
      "              precision    recall  f1-score   support\n",
      "\n",
      "        -1.0       0.47      0.05      0.10       367\n",
      "         1.0       0.54      0.95      0.69       438\n",
      "\n",
      "    accuracy                           0.54       805\n",
      "   macro avg       0.50      0.50      0.39       805\n",
      "weighted avg       0.51      0.54      0.42       805\n",
      "\n"
     ]
    }
   ],
   "source": [
    "# Evaluate the model's ability to predict the trading signal for the testing data\n",
    "svm_testing_report = classification_report(y_test, testing_signal_predictions)\n",
    "print(svm_testing_report)"
   ]
  },
  {
   "cell_type": "code",
   "execution_count": 34,
   "metadata": {},
   "outputs": [
    {
     "data": {
      "text/html": [
       "<div>\n",
       "<style scoped>\n",
       "    .dataframe tbody tr th:only-of-type {\n",
       "        vertical-align: middle;\n",
       "    }\n",
       "\n",
       "    .dataframe tbody tr th {\n",
       "        vertical-align: top;\n",
       "    }\n",
       "\n",
       "    .dataframe thead th {\n",
       "        text-align: right;\n",
       "    }\n",
       "</style>\n",
       "<table border=\"1\" class=\"dataframe\">\n",
       "  <thead>\n",
       "    <tr style=\"text-align: right;\">\n",
       "      <th></th>\n",
       "      <th>predicted_signal</th>\n",
       "      <th>actual_returns</th>\n",
       "      <th>trading_algorithm_returns</th>\n",
       "    </tr>\n",
       "    <tr>\n",
       "      <th>datetime</th>\n",
       "      <th></th>\n",
       "      <th></th>\n",
       "      <th></th>\n",
       "    </tr>\n",
       "  </thead>\n",
       "  <tbody>\n",
       "    <tr>\n",
       "      <th>2019-09-19 00:00:00+00:00</th>\n",
       "      <td>1.0</td>\n",
       "      <td>0.046775</td>\n",
       "      <td>0.046775</td>\n",
       "    </tr>\n",
       "    <tr>\n",
       "      <th>2019-09-20 00:00:00+00:00</th>\n",
       "      <td>1.0</td>\n",
       "      <td>-0.014600</td>\n",
       "      <td>-0.014600</td>\n",
       "    </tr>\n",
       "    <tr>\n",
       "      <th>2019-09-21 00:00:00+00:00</th>\n",
       "      <td>1.0</td>\n",
       "      <td>-0.011620</td>\n",
       "      <td>-0.011620</td>\n",
       "    </tr>\n",
       "    <tr>\n",
       "      <th>2019-09-22 00:00:00+00:00</th>\n",
       "      <td>1.0</td>\n",
       "      <td>-0.017646</td>\n",
       "      <td>-0.017646</td>\n",
       "    </tr>\n",
       "    <tr>\n",
       "      <th>2019-09-23 00:00:00+00:00</th>\n",
       "      <td>1.0</td>\n",
       "      <td>-0.046251</td>\n",
       "      <td>-0.046251</td>\n",
       "    </tr>\n",
       "  </tbody>\n",
       "</table>\n",
       "</div>"
      ],
      "text/plain": [
       "                           predicted_signal  actual_returns  \\\n",
       "datetime                                                      \n",
       "2019-09-19 00:00:00+00:00               1.0        0.046775   \n",
       "2019-09-20 00:00:00+00:00               1.0       -0.014600   \n",
       "2019-09-21 00:00:00+00:00               1.0       -0.011620   \n",
       "2019-09-22 00:00:00+00:00               1.0       -0.017646   \n",
       "2019-09-23 00:00:00+00:00               1.0       -0.046251   \n",
       "\n",
       "                           trading_algorithm_returns  \n",
       "datetime                                              \n",
       "2019-09-19 00:00:00+00:00                   0.046775  \n",
       "2019-09-20 00:00:00+00:00                  -0.014600  \n",
       "2019-09-21 00:00:00+00:00                  -0.011620  \n",
       "2019-09-22 00:00:00+00:00                  -0.017646  \n",
       "2019-09-23 00:00:00+00:00                  -0.046251  "
      ]
     },
     "metadata": {},
     "output_type": "display_data"
    },
    {
     "data": {
      "text/html": [
       "<div>\n",
       "<style scoped>\n",
       "    .dataframe tbody tr th:only-of-type {\n",
       "        vertical-align: middle;\n",
       "    }\n",
       "\n",
       "    .dataframe tbody tr th {\n",
       "        vertical-align: top;\n",
       "    }\n",
       "\n",
       "    .dataframe thead th {\n",
       "        text-align: right;\n",
       "    }\n",
       "</style>\n",
       "<table border=\"1\" class=\"dataframe\">\n",
       "  <thead>\n",
       "    <tr style=\"text-align: right;\">\n",
       "      <th></th>\n",
       "      <th>predicted_signal</th>\n",
       "      <th>actual_returns</th>\n",
       "      <th>trading_algorithm_returns</th>\n",
       "    </tr>\n",
       "    <tr>\n",
       "      <th>datetime</th>\n",
       "      <th></th>\n",
       "      <th></th>\n",
       "      <th></th>\n",
       "    </tr>\n",
       "  </thead>\n",
       "  <tbody>\n",
       "    <tr>\n",
       "      <th>2021-11-27 00:00:00+00:00</th>\n",
       "      <td>1.0</td>\n",
       "      <td>0.016374</td>\n",
       "      <td>0.016374</td>\n",
       "    </tr>\n",
       "    <tr>\n",
       "      <th>2021-11-28 00:00:00+00:00</th>\n",
       "      <td>1.0</td>\n",
       "      <td>0.048217</td>\n",
       "      <td>0.048217</td>\n",
       "    </tr>\n",
       "    <tr>\n",
       "      <th>2021-11-29 00:00:00+00:00</th>\n",
       "      <td>1.0</td>\n",
       "      <td>0.035080</td>\n",
       "      <td>0.035080</td>\n",
       "    </tr>\n",
       "    <tr>\n",
       "      <th>2021-11-30 00:00:00+00:00</th>\n",
       "      <td>1.0</td>\n",
       "      <td>0.041928</td>\n",
       "      <td>0.041928</td>\n",
       "    </tr>\n",
       "    <tr>\n",
       "      <th>2021-12-01 00:00:00+00:00</th>\n",
       "      <td>1.0</td>\n",
       "      <td>-0.009606</td>\n",
       "      <td>-0.009606</td>\n",
       "    </tr>\n",
       "  </tbody>\n",
       "</table>\n",
       "</div>"
      ],
      "text/plain": [
       "                           predicted_signal  actual_returns  \\\n",
       "datetime                                                      \n",
       "2021-11-27 00:00:00+00:00               1.0        0.016374   \n",
       "2021-11-28 00:00:00+00:00               1.0        0.048217   \n",
       "2021-11-29 00:00:00+00:00               1.0        0.035080   \n",
       "2021-11-30 00:00:00+00:00               1.0        0.041928   \n",
       "2021-12-01 00:00:00+00:00               1.0       -0.009606   \n",
       "\n",
       "                           trading_algorithm_returns  \n",
       "datetime                                              \n",
       "2021-11-27 00:00:00+00:00                   0.016374  \n",
       "2021-11-28 00:00:00+00:00                   0.048217  \n",
       "2021-11-29 00:00:00+00:00                   0.035080  \n",
       "2021-11-30 00:00:00+00:00                   0.041928  \n",
       "2021-12-01 00:00:00+00:00                  -0.009606  "
      ]
     },
     "metadata": {},
     "output_type": "display_data"
    }
   ],
   "source": [
    "# Create a new empty predictions DataFrame using code provided below.\n",
    "predictions_df = pd.DataFrame(index=X_test.index)\n",
    "predictions_df[\"predicted_signal\"] = testing_signal_predictions\n",
    "predictions_df[\"actual_returns\"] = signals_df[\"actual_returns\"]\n",
    "predictions_df[\"trading_algorithm_returns\"] = predictions_df[\"actual_returns\"] * predictions_df[\"predicted_signal\"]\n",
    "display(predictions_df.head())\n",
    "display(predictions_df.tail())"
   ]
  },
  {
   "cell_type": "code",
   "execution_count": 35,
   "metadata": {},
   "outputs": [
    {
     "data": {
      "text/plain": [
       "<AxesSubplot:xlabel='datetime'>"
      ]
     },
     "execution_count": 35,
     "metadata": {},
     "output_type": "execute_result"
    },
    {
     "data": {
      "image/png": "[encoded data removed]",
      "text/plain": [
       "<Figure size 432x288 with 1 Axes>"
      ]
     },
     "metadata": {
      "needs_background": "light"
     },
     "output_type": "display_data"
    }
   ],
   "source": [
    "# Calculate and plot the cumulative returns for the `actual_returns` and the `trading_algorithm_returns`\n",
    "(1 + predictions_df[[\"actual_returns\", \"trading_algorithm_returns\"]]).cumprod().plot()"
   ]
  },
  {
   "cell_type": "markdown",
   "metadata": {},
   "source": [
    "---\n",
    "\n",
    "# Add a New Machine Learning Model"
   ]
  },
  {
   "cell_type": "markdown",
   "metadata": {},
   "source": [
    "## Import the `LogisticRegression` model from scikit-learn.\n"
   ]
  },
  {
   "cell_type": "code",
   "execution_count": 36,
   "metadata": {},
   "outputs": [],
   "source": [
    "# Import LogisticRegression from sklearn\n",
    "from sklearn.linear_model import LogisticRegression"
   ]
  },
  {
   "cell_type": "code",
   "execution_count": 37,
   "metadata": {},
   "outputs": [],
   "source": [
    "# Create an instance of the LogisticRegression model\n",
    "logistic_regression_model = LogisticRegression()"
   ]
  },
  {
   "cell_type": "markdown",
   "metadata": {},
   "source": [
    "## Using the same training data that the SVM model used (`X_train_scaled` and `y_train`), fit the `LogisticRegression` model."
   ]
  },
  {
   "cell_type": "code",
   "execution_count": 38,
   "metadata": {},
   "outputs": [
    {
     "data": {
      "text/plain": [
       "LogisticRegression()"
      ]
     },
     "execution_count": 38,
     "metadata": {},
     "output_type": "execute_result"
    }
   ],
   "source": [
    "# Fit the LogisticRegression model\n",
    "logistic_regression_model.fit(X_train_scaled, y_train)"
   ]
  },
  {
   "cell_type": "markdown",
   "metadata": {},
   "source": [
    "## Use the trained model to predict the trading signals for the training data. Use the `classification_report` module to evaluate the model."
   ]
  },
  {
   "cell_type": "code",
   "execution_count": 39,
   "metadata": {},
   "outputs": [
    {
     "data": {
      "text/plain": [
       "array([ 1.,  1.,  1.,  1.,  1.,  1.,  1.,  1.,  1.,  1.,  1.,  1.,  1.,\n",
       "        1.,  1.,  1.,  1.,  1.,  1.,  1.,  1.,  1., -1., -1., -1., -1.,\n",
       "       -1., -1., -1., -1., -1., -1., -1., -1., -1., -1., -1., -1., -1.,\n",
       "       -1., -1., -1., -1., -1., -1., -1., -1., -1., -1., -1., -1., -1.,\n",
       "       -1., -1., -1., -1., -1., -1., -1., -1.,  1.,  1.,  1.,  1.,  1.,\n",
       "        1.,  1.,  1.,  1.,  1.,  1.,  1.,  1.,  1.,  1.,  1.,  1.,  1.,\n",
       "        1.,  1.,  1.,  1.,  1.,  1.,  1.,  1.,  1.,  1.,  1.,  1.,  1.,\n",
       "        1.,  1.])"
      ]
     },
     "execution_count": 39,
     "metadata": {},
     "output_type": "execute_result"
    }
   ],
   "source": [
    "# Use the trained LogisticRegression model to predict the trading signals for the training data\n",
    "lr_training_signal_predictions = logistic_regression_model.predict(X_train_scaled)\n",
    "\n",
    "# Display the predictions\n",
    "lr_training_signal_predictions"
   ]
  },
  {
   "cell_type": "code",
   "execution_count": 40,
   "metadata": {},
   "outputs": [
    {
     "name": "stdout",
     "output_type": "stream",
     "text": [
      "              precision    recall  f1-score   support\n",
      "\n",
      "        -1.0       0.50      0.45      0.48        42\n",
      "         1.0       0.58      0.63      0.60        51\n",
      "\n",
      "    accuracy                           0.55        93\n",
      "   macro avg       0.54      0.54      0.54        93\n",
      "weighted avg       0.54      0.55      0.55        93\n",
      "\n"
     ]
    }
   ],
   "source": [
    "# Generate a classification report using the training data and the logistic regression model's predications\n",
    "lr_training_report = classification_report(y_train, lr_training_signal_predictions)\n",
    "\n",
    "# Review the classification report\n",
    "print(lr_training_report)"
   ]
  },
  {
   "cell_type": "markdown",
   "metadata": {},
   "source": [
    "## Backtest the `LogisticRegression` model using the testing data to evaluate its performance."
   ]
  },
  {
   "cell_type": "code",
   "execution_count": 41,
   "metadata": {},
   "outputs": [],
   "source": [
    "# Use the trained model to predict the trading signals for the testing data.\n",
    "lr_testing_signal_predictions = logistic_regression_model.predict(X_test_scaled)"
   ]
  },
  {
   "cell_type": "code",
   "execution_count": 42,
   "metadata": {},
   "outputs": [
    {
     "name": "stdout",
     "output_type": "stream",
     "text": [
      "              precision    recall  f1-score   support\n",
      "\n",
      "        -1.0       0.43      0.58      0.49       367\n",
      "         1.0       0.49      0.34      0.40       438\n",
      "\n",
      "    accuracy                           0.45       805\n",
      "   macro avg       0.46      0.46      0.45       805\n",
      "weighted avg       0.46      0.45      0.44       805\n",
      "\n"
     ]
    }
   ],
   "source": [
    "# Generate a classification report using the testing data and the logistic regression model's predictions\n",
    "lr_testing_report = classification_report(y_test, lr_testing_signal_predictions)\n",
    "\n",
    "# Review the testing classification report\n",
    "print(lr_testing_report)"
   ]
  },
  {
   "cell_type": "markdown",
   "metadata": {},
   "source": [
    "## Compare the performance of the logistic regression and SVM models using the classification reports generated with the testing data. "
   ]
  },
  {
   "cell_type": "code",
   "execution_count": 43,
   "metadata": {},
   "outputs": [
    {
     "name": "stdout",
     "output_type": "stream",
     "text": [
      "Logistic Regression Classification Report\n",
      "              precision    recall  f1-score   support\n",
      "\n",
      "        -1.0       0.43      0.58      0.49       367\n",
      "         1.0       0.49      0.34      0.40       438\n",
      "\n",
      "    accuracy                           0.45       805\n",
      "   macro avg       0.46      0.46      0.45       805\n",
      "weighted avg       0.46      0.45      0.44       805\n",
      "\n"
     ]
    }
   ],
   "source": [
    "# Print the classification report for the Logistic Regression model using the test data\n",
    "print(\"Logistic Regression Classification Report\")\n",
    "print(lr_testing_report)"
   ]
  },
  {
   "cell_type": "code",
   "execution_count": 44,
   "metadata": {},
   "outputs": [
    {
     "name": "stdout",
     "output_type": "stream",
     "text": [
      "SVM Classification Report\n",
      "              precision    recall  f1-score   support\n",
      "\n",
      "        -1.0       0.47      0.05      0.10       367\n",
      "         1.0       0.54      0.95      0.69       438\n",
      "\n",
      "    accuracy                           0.54       805\n",
      "   macro avg       0.50      0.50      0.39       805\n",
      "weighted avg       0.51      0.54      0.42       805\n",
      "\n"
     ]
    }
   ],
   "source": [
    "# Print the classification report for the SVM model using the test data\n",
    "print(\"SVM Classification Report\")\n",
    "print(svm_testing_report)"
   ]
  },
  {
   "cell_type": "markdown",
   "metadata": {},
   "source": [
    "### Answer the following question:"
   ]
  },
  {
   "cell_type": "markdown",
   "metadata": {},
   "source": [
    "**Question:** Did the `LogisticRegression` perform better than the `SVM`?\n",
    "\n",
    "**Answer:** No! The SVM model performs a bit better than the logistic regression model since it has a higher accuracy score (54% to 45%)."
   ]
  }
 ],
 "metadata": {
  "kernelspec": {
   "display_name": "Python 3 (ipykernel)",
   "language": "python",
   "name": "python3"
  },
  "language_info": {
   "codemirror_mode": {
    "name": "ipython",
    "version": 3
   },
   "file_extension": ".py",
   "mimetype": "text/x-python",
   "name": "python",
   "nbconvert_exporter": "python",
   "pygments_lexer": "ipython3",
   "version": "3.8.8"
  }
 },
 "nbformat": 4,
 "nbformat_minor": 4
}
