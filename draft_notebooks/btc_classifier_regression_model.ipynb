{
 "cells": [
  {
   "cell_type": "markdown",
   "metadata": {},
   "source": [
    "# Bitcoin Machine Learning Golden Cross Algorithmic Trading\n",
    "\n",
    "## Background\n",
    "\n",
    "In this workbook, we've trained support vector machine (SVM) model to make trading predictions, backtested the results, and then evaluated its performance compared to that of a logistic regression model for BTC.\n",
    "\n",
    "## References\n",
    "\n",
    "* [SKLearn SVM - SVC Classifier](https://scikit-learn.org/stable/modules/generated/sklearn.svm.SVC.html)\n",
    "\n",
    "* [SKLearn LogisticRegression](https://scikit-learn.org/stable/modules/generated/sklearn.linear_model.LogisticRegression.html)\n",
    "\n",
    "---"
   ]
  },
  {
   "cell_type": "code",
   "execution_count": 223,
   "metadata": {},
   "outputs": [],
   "source": [
    "# Imports\n",
    "import pandas as pd\n",
    "from pathlib import Path\n",
    "import san"
   ]
  },
  {
   "cell_type": "markdown",
   "metadata": {},
   "source": [
    "### Read the CSV file into Pandas DataFrame"
   ]
  },
  {
   "cell_type": "code",
   "execution_count": 224,
   "metadata": {},
   "outputs": [
    {
     "data": {
      "text/html": [
       "<div>\n",
       "<style scoped>\n",
       "    .dataframe tbody tr th:only-of-type {\n",
       "        vertical-align: middle;\n",
       "    }\n",
       "\n",
       "    .dataframe tbody tr th {\n",
       "        vertical-align: top;\n",
       "    }\n",
       "\n",
       "    .dataframe thead th {\n",
       "        text-align: right;\n",
       "    }\n",
       "</style>\n",
       "<table border=\"1\" class=\"dataframe\">\n",
       "  <thead>\n",
       "    <tr style=\"text-align: right;\">\n",
       "      <th></th>\n",
       "      <th>openPriceUsd</th>\n",
       "      <th>closePriceUsd</th>\n",
       "      <th>highPriceUsd</th>\n",
       "      <th>lowPriceUsd</th>\n",
       "      <th>volume</th>\n",
       "      <th>marketcap</th>\n",
       "    </tr>\n",
       "    <tr>\n",
       "      <th>datetime</th>\n",
       "      <th></th>\n",
       "      <th></th>\n",
       "      <th></th>\n",
       "      <th></th>\n",
       "      <th></th>\n",
       "      <th></th>\n",
       "    </tr>\n",
       "  </thead>\n",
       "  <tbody>\n",
       "    <tr>\n",
       "      <th>2018-12-01 00:00:00+00:00</th>\n",
       "      <td>4024.464242</td>\n",
       "      <td>4214.671932</td>\n",
       "      <td>4309.377312</td>\n",
       "      <td>3967.385777</td>\n",
       "      <td>5.375314e+09</td>\n",
       "      <td>7.334619e+10</td>\n",
       "    </tr>\n",
       "    <tr>\n",
       "      <th>2018-12-02 00:00:00+00:00</th>\n",
       "      <td>4200.733180</td>\n",
       "      <td>4139.878064</td>\n",
       "      <td>4302.308536</td>\n",
       "      <td>4110.978473</td>\n",
       "      <td>5.262698e+09</td>\n",
       "      <td>7.205049e+10</td>\n",
       "    </tr>\n",
       "    <tr>\n",
       "      <th>2018-12-03 00:00:00+00:00</th>\n",
       "      <td>4140.968062</td>\n",
       "      <td>3894.130907</td>\n",
       "      <td>4155.979284</td>\n",
       "      <td>3839.515704</td>\n",
       "      <td>5.089571e+09</td>\n",
       "      <td>6.777905e+10</td>\n",
       "    </tr>\n",
       "    <tr>\n",
       "      <th>2018-12-04 00:00:00+00:00</th>\n",
       "      <td>3889.157782</td>\n",
       "      <td>3956.893870</td>\n",
       "      <td>4075.627655</td>\n",
       "      <td>3832.749938</td>\n",
       "      <td>5.028069e+09</td>\n",
       "      <td>6.887829e+10</td>\n",
       "    </tr>\n",
       "    <tr>\n",
       "      <th>2018-12-05 00:00:00+00:00</th>\n",
       "      <td>3958.894725</td>\n",
       "      <td>3753.994827</td>\n",
       "      <td>3969.535852</td>\n",
       "      <td>3753.994827</td>\n",
       "      <td>5.302482e+09</td>\n",
       "      <td>6.535250e+10</td>\n",
       "    </tr>\n",
       "  </tbody>\n",
       "</table>\n",
       "</div>"
      ],
      "text/plain": [
       "                           openPriceUsd  closePriceUsd  highPriceUsd  \\\n",
       "datetime                                                               \n",
       "2018-12-01 00:00:00+00:00   4024.464242    4214.671932   4309.377312   \n",
       "2018-12-02 00:00:00+00:00   4200.733180    4139.878064   4302.308536   \n",
       "2018-12-03 00:00:00+00:00   4140.968062    3894.130907   4155.979284   \n",
       "2018-12-04 00:00:00+00:00   3889.157782    3956.893870   4075.627655   \n",
       "2018-12-05 00:00:00+00:00   3958.894725    3753.994827   3969.535852   \n",
       "\n",
       "                           lowPriceUsd        volume     marketcap  \n",
       "datetime                                                            \n",
       "2018-12-01 00:00:00+00:00  3967.385777  5.375314e+09  7.334619e+10  \n",
       "2018-12-02 00:00:00+00:00  4110.978473  5.262698e+09  7.205049e+10  \n",
       "2018-12-03 00:00:00+00:00  3839.515704  5.089571e+09  6.777905e+10  \n",
       "2018-12-04 00:00:00+00:00  3832.749938  5.028069e+09  6.887829e+10  \n",
       "2018-12-05 00:00:00+00:00  3753.994827  5.302482e+09  6.535250e+10  "
      ]
     },
     "execution_count": 224,
     "metadata": {},
     "output_type": "execute_result"
    }
   ],
   "source": [
    "# Import the OHLCV dataset into a Pandas Dataframe\n",
    "trading_df = san.get(\n",
    "    \"ohlcv/bitcoin\",\n",
    "    from_date=\"2018-12-01\",\n",
    "    to_date=\"2021-12-01\",\n",
    "    interval=\"1d\"\n",
    ")\n",
    "\n",
    "# Review the DataFrame\n",
    "trading_df.head()"
   ]
  },
  {
   "cell_type": "markdown",
   "metadata": {},
   "source": [
    "### Add a daily return values column to the DataFrame"
   ]
  },
  {
   "cell_type": "code",
   "execution_count": 225,
   "metadata": {},
   "outputs": [
    {
     "data": {
      "text/html": [
       "<div>\n",
       "<style scoped>\n",
       "    .dataframe tbody tr th:only-of-type {\n",
       "        vertical-align: middle;\n",
       "    }\n",
       "\n",
       "    .dataframe tbody tr th {\n",
       "        vertical-align: top;\n",
       "    }\n",
       "\n",
       "    .dataframe thead th {\n",
       "        text-align: right;\n",
       "    }\n",
       "</style>\n",
       "<table border=\"1\" class=\"dataframe\">\n",
       "  <thead>\n",
       "    <tr style=\"text-align: right;\">\n",
       "      <th></th>\n",
       "      <th>openPriceUsd</th>\n",
       "      <th>closePriceUsd</th>\n",
       "      <th>highPriceUsd</th>\n",
       "      <th>lowPriceUsd</th>\n",
       "      <th>volume</th>\n",
       "      <th>marketcap</th>\n",
       "      <th>actual_returns</th>\n",
       "    </tr>\n",
       "    <tr>\n",
       "      <th>datetime</th>\n",
       "      <th></th>\n",
       "      <th></th>\n",
       "      <th></th>\n",
       "      <th></th>\n",
       "      <th></th>\n",
       "      <th></th>\n",
       "      <th></th>\n",
       "    </tr>\n",
       "  </thead>\n",
       "  <tbody>\n",
       "    <tr>\n",
       "      <th>2018-12-02 00:00:00+00:00</th>\n",
       "      <td>4200.733180</td>\n",
       "      <td>4139.878064</td>\n",
       "      <td>4302.308536</td>\n",
       "      <td>4110.978473</td>\n",
       "      <td>5.262698e+09</td>\n",
       "      <td>7.205049e+10</td>\n",
       "      <td>-0.017746</td>\n",
       "    </tr>\n",
       "    <tr>\n",
       "      <th>2018-12-03 00:00:00+00:00</th>\n",
       "      <td>4140.968062</td>\n",
       "      <td>3894.130907</td>\n",
       "      <td>4155.979284</td>\n",
       "      <td>3839.515704</td>\n",
       "      <td>5.089571e+09</td>\n",
       "      <td>6.777905e+10</td>\n",
       "      <td>-0.059361</td>\n",
       "    </tr>\n",
       "    <tr>\n",
       "      <th>2018-12-04 00:00:00+00:00</th>\n",
       "      <td>3889.157782</td>\n",
       "      <td>3956.893870</td>\n",
       "      <td>4075.627655</td>\n",
       "      <td>3832.749938</td>\n",
       "      <td>5.028069e+09</td>\n",
       "      <td>6.887829e+10</td>\n",
       "      <td>0.016117</td>\n",
       "    </tr>\n",
       "    <tr>\n",
       "      <th>2018-12-05 00:00:00+00:00</th>\n",
       "      <td>3958.894725</td>\n",
       "      <td>3753.994827</td>\n",
       "      <td>3969.535852</td>\n",
       "      <td>3753.994827</td>\n",
       "      <td>5.302482e+09</td>\n",
       "      <td>6.535250e+10</td>\n",
       "      <td>-0.051277</td>\n",
       "    </tr>\n",
       "    <tr>\n",
       "      <th>2018-12-06 00:00:00+00:00</th>\n",
       "      <td>3752.957618</td>\n",
       "      <td>3523.587653</td>\n",
       "      <td>3877.217892</td>\n",
       "      <td>3521.101724</td>\n",
       "      <td>5.881809e+09</td>\n",
       "      <td>6.134725e+10</td>\n",
       "      <td>-0.061377</td>\n",
       "    </tr>\n",
       "  </tbody>\n",
       "</table>\n",
       "</div>"
      ],
      "text/plain": [
       "                           openPriceUsd  closePriceUsd  highPriceUsd  \\\n",
       "datetime                                                               \n",
       "2018-12-02 00:00:00+00:00   4200.733180    4139.878064   4302.308536   \n",
       "2018-12-03 00:00:00+00:00   4140.968062    3894.130907   4155.979284   \n",
       "2018-12-04 00:00:00+00:00   3889.157782    3956.893870   4075.627655   \n",
       "2018-12-05 00:00:00+00:00   3958.894725    3753.994827   3969.535852   \n",
       "2018-12-06 00:00:00+00:00   3752.957618    3523.587653   3877.217892   \n",
       "\n",
       "                           lowPriceUsd        volume     marketcap  \\\n",
       "datetime                                                             \n",
       "2018-12-02 00:00:00+00:00  4110.978473  5.262698e+09  7.205049e+10   \n",
       "2018-12-03 00:00:00+00:00  3839.515704  5.089571e+09  6.777905e+10   \n",
       "2018-12-04 00:00:00+00:00  3832.749938  5.028069e+09  6.887829e+10   \n",
       "2018-12-05 00:00:00+00:00  3753.994827  5.302482e+09  6.535250e+10   \n",
       "2018-12-06 00:00:00+00:00  3521.101724  5.881809e+09  6.134725e+10   \n",
       "\n",
       "                           actual_returns  \n",
       "datetime                                   \n",
       "2018-12-02 00:00:00+00:00       -0.017746  \n",
       "2018-12-03 00:00:00+00:00       -0.059361  \n",
       "2018-12-04 00:00:00+00:00        0.016117  \n",
       "2018-12-05 00:00:00+00:00       -0.051277  \n",
       "2018-12-06 00:00:00+00:00       -0.061377  "
      ]
     },
     "metadata": {},
     "output_type": "display_data"
    },
    {
     "data": {
      "text/html": [
       "<div>\n",
       "<style scoped>\n",
       "    .dataframe tbody tr th:only-of-type {\n",
       "        vertical-align: middle;\n",
       "    }\n",
       "\n",
       "    .dataframe tbody tr th {\n",
       "        vertical-align: top;\n",
       "    }\n",
       "\n",
       "    .dataframe thead th {\n",
       "        text-align: right;\n",
       "    }\n",
       "</style>\n",
       "<table border=\"1\" class=\"dataframe\">\n",
       "  <thead>\n",
       "    <tr style=\"text-align: right;\">\n",
       "      <th></th>\n",
       "      <th>openPriceUsd</th>\n",
       "      <th>closePriceUsd</th>\n",
       "      <th>highPriceUsd</th>\n",
       "      <th>lowPriceUsd</th>\n",
       "      <th>volume</th>\n",
       "      <th>marketcap</th>\n",
       "      <th>actual_returns</th>\n",
       "    </tr>\n",
       "    <tr>\n",
       "      <th>datetime</th>\n",
       "      <th></th>\n",
       "      <th></th>\n",
       "      <th></th>\n",
       "      <th></th>\n",
       "      <th></th>\n",
       "      <th></th>\n",
       "      <th></th>\n",
       "    </tr>\n",
       "  </thead>\n",
       "  <tbody>\n",
       "    <tr>\n",
       "      <th>2021-11-27 00:00:00+00:00</th>\n",
       "      <td>53788.100861</td>\n",
       "      <td>54815.079305</td>\n",
       "      <td>55278.488924</td>\n",
       "      <td>53741.326475</td>\n",
       "      <td>3.056086e+10</td>\n",
       "      <td>1.035176e+12</td>\n",
       "      <td>0.023247</td>\n",
       "    </tr>\n",
       "    <tr>\n",
       "      <th>2021-11-28 00:00:00+00:00</th>\n",
       "      <td>54813.024702</td>\n",
       "      <td>57248.458376</td>\n",
       "      <td>57393.843751</td>\n",
       "      <td>53680.466521</td>\n",
       "      <td>2.811689e+10</td>\n",
       "      <td>1.081180e+12</td>\n",
       "      <td>0.044393</td>\n",
       "    </tr>\n",
       "    <tr>\n",
       "      <th>2021-11-29 00:00:00+00:00</th>\n",
       "      <td>57291.904735</td>\n",
       "      <td>57806.566215</td>\n",
       "      <td>58758.660146</td>\n",
       "      <td>56856.369563</td>\n",
       "      <td>3.237084e+10</td>\n",
       "      <td>1.091774e+12</td>\n",
       "      <td>0.009749</td>\n",
       "    </tr>\n",
       "    <tr>\n",
       "      <th>2021-11-30 00:00:00+00:00</th>\n",
       "      <td>57792.231501</td>\n",
       "      <td>57005.425474</td>\n",
       "      <td>59020.328590</td>\n",
       "      <td>56089.483383</td>\n",
       "      <td>3.670859e+10</td>\n",
       "      <td>1.076689e+12</td>\n",
       "      <td>-0.013859</td>\n",
       "    </tr>\n",
       "    <tr>\n",
       "      <th>2021-12-01 00:00:00+00:00</th>\n",
       "      <td>56907.966734</td>\n",
       "      <td>57229.829899</td>\n",
       "      <td>59039.431694</td>\n",
       "      <td>56553.080774</td>\n",
       "      <td>3.685820e+10</td>\n",
       "      <td>1.080978e+12</td>\n",
       "      <td>0.003937</td>\n",
       "    </tr>\n",
       "  </tbody>\n",
       "</table>\n",
       "</div>"
      ],
      "text/plain": [
       "                           openPriceUsd  closePriceUsd  highPriceUsd  \\\n",
       "datetime                                                               \n",
       "2021-11-27 00:00:00+00:00  53788.100861   54815.079305  55278.488924   \n",
       "2021-11-28 00:00:00+00:00  54813.024702   57248.458376  57393.843751   \n",
       "2021-11-29 00:00:00+00:00  57291.904735   57806.566215  58758.660146   \n",
       "2021-11-30 00:00:00+00:00  57792.231501   57005.425474  59020.328590   \n",
       "2021-12-01 00:00:00+00:00  56907.966734   57229.829899  59039.431694   \n",
       "\n",
       "                            lowPriceUsd        volume     marketcap  \\\n",
       "datetime                                                              \n",
       "2021-11-27 00:00:00+00:00  53741.326475  3.056086e+10  1.035176e+12   \n",
       "2021-11-28 00:00:00+00:00  53680.466521  2.811689e+10  1.081180e+12   \n",
       "2021-11-29 00:00:00+00:00  56856.369563  3.237084e+10  1.091774e+12   \n",
       "2021-11-30 00:00:00+00:00  56089.483383  3.670859e+10  1.076689e+12   \n",
       "2021-12-01 00:00:00+00:00  56553.080774  3.685820e+10  1.080978e+12   \n",
       "\n",
       "                           actual_returns  \n",
       "datetime                                   \n",
       "2021-11-27 00:00:00+00:00        0.023247  \n",
       "2021-11-28 00:00:00+00:00        0.044393  \n",
       "2021-11-29 00:00:00+00:00        0.009749  \n",
       "2021-11-30 00:00:00+00:00       -0.013859  \n",
       "2021-12-01 00:00:00+00:00        0.003937  "
      ]
     },
     "metadata": {},
     "output_type": "display_data"
    }
   ],
   "source": [
    "# Calculate the daily returns using the closing prices and the pct_change function\n",
    "trading_df[\"actual_returns\"] = trading_df[\"closePriceUsd\"].pct_change()\n",
    "\n",
    "# Drop all NaN values from the DataFrame\n",
    "trading_df = trading_df.dropna()\n",
    "\n",
    "# Review the DataFrame\n",
    "display(trading_df.head())\n",
    "display(trading_df.tail())"
   ]
  },
  {
   "cell_type": "markdown",
   "metadata": {},
   "source": [
    "---\n",
    "\n",
    "### Generating the Features and Target Sets"
   ]
  },
  {
   "cell_type": "code",
   "execution_count": 226,
   "metadata": {},
   "outputs": [],
   "source": [
    "# Define a window size of 50\n",
    "short_window = 50\n",
    "\n",
    "# Create a simple moving average (SMA) using the short_window and assign this to a new columns called sma_fast\n",
    "trading_df[\"sma_fast\"] = trading_df[\"closePriceUsd\"].rolling(window=short_window).mean()"
   ]
  },
  {
   "cell_type": "code",
   "execution_count": 227,
   "metadata": {},
   "outputs": [],
   "source": [
    "# Define a window size of 200\n",
    "long_window = 200\n",
    "\n",
    "# Create a simple moving average (SMA) using the long_window and assign this to a new columns called sma_slow\n",
    "trading_df[\"sma_slow\"] = trading_df[\"closePriceUsd\"].rolling(window=long_window).mean()"
   ]
  },
  {
   "cell_type": "code",
   "execution_count": 228,
   "metadata": {},
   "outputs": [],
   "source": [
    "# Drop the NaNs using dropna()\n",
    "trading_df = trading_df.dropna()"
   ]
  },
  {
   "cell_type": "markdown",
   "metadata": {},
   "source": [
    "#### Create the features set"
   ]
  },
  {
   "cell_type": "code",
   "execution_count": 229,
   "metadata": {},
   "outputs": [
    {
     "data": {
      "text/html": [
       "<div>\n",
       "<style scoped>\n",
       "    .dataframe tbody tr th:only-of-type {\n",
       "        vertical-align: middle;\n",
       "    }\n",
       "\n",
       "    .dataframe tbody tr th {\n",
       "        vertical-align: top;\n",
       "    }\n",
       "\n",
       "    .dataframe thead th {\n",
       "        text-align: right;\n",
       "    }\n",
       "</style>\n",
       "<table border=\"1\" class=\"dataframe\">\n",
       "  <thead>\n",
       "    <tr style=\"text-align: right;\">\n",
       "      <th></th>\n",
       "      <th>sma_fast</th>\n",
       "      <th>sma_slow</th>\n",
       "    </tr>\n",
       "    <tr>\n",
       "      <th>datetime</th>\n",
       "      <th></th>\n",
       "      <th></th>\n",
       "    </tr>\n",
       "  </thead>\n",
       "  <tbody>\n",
       "    <tr>\n",
       "      <th>2019-06-19 00:00:00+00:00</th>\n",
       "      <td>7713.055810</td>\n",
       "      <td>4969.832575</td>\n",
       "    </tr>\n",
       "    <tr>\n",
       "      <th>2019-06-20 00:00:00+00:00</th>\n",
       "      <td>7795.545075</td>\n",
       "      <td>4996.768986</td>\n",
       "    </tr>\n",
       "    <tr>\n",
       "      <th>2019-06-21 00:00:00+00:00</th>\n",
       "      <td>7888.325162</td>\n",
       "      <td>5028.021115</td>\n",
       "    </tr>\n",
       "    <tr>\n",
       "      <th>2019-06-22 00:00:00+00:00</th>\n",
       "      <td>7986.993194</td>\n",
       "      <td>5061.745101</td>\n",
       "    </tr>\n",
       "    <tr>\n",
       "      <th>2019-06-23 00:00:00+00:00</th>\n",
       "      <td>8087.477265</td>\n",
       "      <td>5097.251982</td>\n",
       "    </tr>\n",
       "  </tbody>\n",
       "</table>\n",
       "</div>"
      ],
      "text/plain": [
       "                              sma_fast     sma_slow\n",
       "datetime                                           \n",
       "2019-06-19 00:00:00+00:00  7713.055810  4969.832575\n",
       "2019-06-20 00:00:00+00:00  7795.545075  4996.768986\n",
       "2019-06-21 00:00:00+00:00  7888.325162  5028.021115\n",
       "2019-06-22 00:00:00+00:00  7986.993194  5061.745101\n",
       "2019-06-23 00:00:00+00:00  8087.477265  5097.251982"
      ]
     },
     "metadata": {},
     "output_type": "display_data"
    },
    {
     "data": {
      "text/html": [
       "<div>\n",
       "<style scoped>\n",
       "    .dataframe tbody tr th:only-of-type {\n",
       "        vertical-align: middle;\n",
       "    }\n",
       "\n",
       "    .dataframe tbody tr th {\n",
       "        vertical-align: top;\n",
       "    }\n",
       "\n",
       "    .dataframe thead th {\n",
       "        text-align: right;\n",
       "    }\n",
       "</style>\n",
       "<table border=\"1\" class=\"dataframe\">\n",
       "  <thead>\n",
       "    <tr style=\"text-align: right;\">\n",
       "      <th></th>\n",
       "      <th>sma_fast</th>\n",
       "      <th>sma_slow</th>\n",
       "    </tr>\n",
       "    <tr>\n",
       "      <th>datetime</th>\n",
       "      <th></th>\n",
       "      <th></th>\n",
       "    </tr>\n",
       "  </thead>\n",
       "  <tbody>\n",
       "    <tr>\n",
       "      <th>2021-11-27 00:00:00+00:00</th>\n",
       "      <td>60733.733652</td>\n",
       "      <td>45983.186780</td>\n",
       "    </tr>\n",
       "    <tr>\n",
       "      <th>2021-11-28 00:00:00+00:00</th>\n",
       "      <td>60779.338331</td>\n",
       "      <td>46023.676402</td>\n",
       "    </tr>\n",
       "    <tr>\n",
       "      <th>2021-11-29 00:00:00+00:00</th>\n",
       "      <td>60840.038071</td>\n",
       "      <td>46064.128275</td>\n",
       "    </tr>\n",
       "    <tr>\n",
       "      <th>2021-11-30 00:00:00+00:00</th>\n",
       "      <td>60830.450791</td>\n",
       "      <td>46099.752736</td>\n",
       "    </tr>\n",
       "    <tr>\n",
       "      <th>2021-12-01 00:00:00+00:00</th>\n",
       "      <td>60854.226253</td>\n",
       "      <td>46152.100952</td>\n",
       "    </tr>\n",
       "  </tbody>\n",
       "</table>\n",
       "</div>"
      ],
      "text/plain": [
       "                               sma_fast      sma_slow\n",
       "datetime                                             \n",
       "2021-11-27 00:00:00+00:00  60733.733652  45983.186780\n",
       "2021-11-28 00:00:00+00:00  60779.338331  46023.676402\n",
       "2021-11-29 00:00:00+00:00  60840.038071  46064.128275\n",
       "2021-11-30 00:00:00+00:00  60830.450791  46099.752736\n",
       "2021-12-01 00:00:00+00:00  60854.226253  46152.100952"
      ]
     },
     "metadata": {},
     "output_type": "display_data"
    }
   ],
   "source": [
    "# Assign a copy of the sma_fast and sma_slow columns to a new DataFrame called X\n",
    "X = trading_df[[\"sma_fast\", \"sma_slow\"]].copy()\n",
    "\n",
    "# Display sample data\n",
    "display(X.head())\n",
    "display(X.tail())"
   ]
  },
  {
   "cell_type": "markdown",
   "metadata": {},
   "source": [
    "#### Create the target set"
   ]
  },
  {
   "cell_type": "code",
   "execution_count": 230,
   "metadata": {},
   "outputs": [],
   "source": [
    "# Create a new column in the trading_df called signal setting its value to zero.\n",
    "trading_df[\"signal\"] = 0.0"
   ]
  },
  {
   "cell_type": "code",
   "execution_count": 231,
   "metadata": {},
   "outputs": [],
   "source": [
    "# Create the signal to buy\n",
    "trading_df.loc[(trading_df[\"actual_returns\"] >= 0), \"signal\"] = 1"
   ]
  },
  {
   "cell_type": "code",
   "execution_count": 232,
   "metadata": {},
   "outputs": [],
   "source": [
    "# Create the signal to sell\n",
    "trading_df.loc[(trading_df[\"actual_returns\"] < 0), \"signal\"] = -1"
   ]
  },
  {
   "cell_type": "code",
   "execution_count": 233,
   "metadata": {},
   "outputs": [],
   "source": [
    "# Copy the new signal column to a new Series called y.\n",
    "y = trading_df[\"signal\"].copy()"
   ]
  },
  {
   "cell_type": "markdown",
   "metadata": {},
   "source": [
    "---\n",
    "\n",
    "### Split the Data Into Training and Testing Datasets"
   ]
  },
  {
   "cell_type": "markdown",
   "metadata": {},
   "source": [
    "#### Creating the Training Datasets"
   ]
  },
  {
   "cell_type": "code",
   "execution_count": 234,
   "metadata": {},
   "outputs": [],
   "source": [
    "# Imports \n",
    "from pandas.tseries.offsets import DateOffset"
   ]
  },
  {
   "cell_type": "code",
   "execution_count": 235,
   "metadata": {},
   "outputs": [
    {
     "name": "stdout",
     "output_type": "stream",
     "text": [
      "2019-06-19 00:00:00+00:00\n"
     ]
    }
   ],
   "source": [
    "# Select the start of the training period\n",
    "training_begin = X.index.min()\n",
    "\n",
    "# Display the training begin date\n",
    "print(training_begin)"
   ]
  },
  {
   "cell_type": "code",
   "execution_count": 236,
   "metadata": {},
   "outputs": [
    {
     "name": "stdout",
     "output_type": "stream",
     "text": [
      "2019-09-19 00:00:00+00:00\n"
     ]
    }
   ],
   "source": [
    "# Select the ending period for the training data with an offset of 3 months\n",
    "training_end = X.index.min() + DateOffset(months=3)\n",
    "\n",
    "# Display the training end date\n",
    "print(training_end)"
   ]
  },
  {
   "cell_type": "code",
   "execution_count": 237,
   "metadata": {},
   "outputs": [
    {
     "data": {
      "text/html": [
       "<div>\n",
       "<style scoped>\n",
       "    .dataframe tbody tr th:only-of-type {\n",
       "        vertical-align: middle;\n",
       "    }\n",
       "\n",
       "    .dataframe tbody tr th {\n",
       "        vertical-align: top;\n",
       "    }\n",
       "\n",
       "    .dataframe thead th {\n",
       "        text-align: right;\n",
       "    }\n",
       "</style>\n",
       "<table border=\"1\" class=\"dataframe\">\n",
       "  <thead>\n",
       "    <tr style=\"text-align: right;\">\n",
       "      <th></th>\n",
       "      <th>sma_fast</th>\n",
       "      <th>sma_slow</th>\n",
       "    </tr>\n",
       "    <tr>\n",
       "      <th>datetime</th>\n",
       "      <th></th>\n",
       "      <th></th>\n",
       "    </tr>\n",
       "  </thead>\n",
       "  <tbody>\n",
       "    <tr>\n",
       "      <th>2019-06-19 00:00:00+00:00</th>\n",
       "      <td>7713.055810</td>\n",
       "      <td>4969.832575</td>\n",
       "    </tr>\n",
       "    <tr>\n",
       "      <th>2019-06-20 00:00:00+00:00</th>\n",
       "      <td>7795.545075</td>\n",
       "      <td>4996.768986</td>\n",
       "    </tr>\n",
       "    <tr>\n",
       "      <th>2019-06-21 00:00:00+00:00</th>\n",
       "      <td>7888.325162</td>\n",
       "      <td>5028.021115</td>\n",
       "    </tr>\n",
       "    <tr>\n",
       "      <th>2019-06-22 00:00:00+00:00</th>\n",
       "      <td>7986.993194</td>\n",
       "      <td>5061.745101</td>\n",
       "    </tr>\n",
       "    <tr>\n",
       "      <th>2019-06-23 00:00:00+00:00</th>\n",
       "      <td>8087.477265</td>\n",
       "      <td>5097.251982</td>\n",
       "    </tr>\n",
       "  </tbody>\n",
       "</table>\n",
       "</div>"
      ],
      "text/plain": [
       "                              sma_fast     sma_slow\n",
       "datetime                                           \n",
       "2019-06-19 00:00:00+00:00  7713.055810  4969.832575\n",
       "2019-06-20 00:00:00+00:00  7795.545075  4996.768986\n",
       "2019-06-21 00:00:00+00:00  7888.325162  5028.021115\n",
       "2019-06-22 00:00:00+00:00  7986.993194  5061.745101\n",
       "2019-06-23 00:00:00+00:00  8087.477265  5097.251982"
      ]
     },
     "execution_count": 237,
     "metadata": {},
     "output_type": "execute_result"
    }
   ],
   "source": [
    "# Generate the X_train and y_train DataFrames\n",
    "X_train = X.loc[training_begin:training_end]\n",
    "y_train = y.loc[training_begin:training_end]\n",
    "\n",
    "# Display sample data\n",
    "X_train.head()"
   ]
  },
  {
   "cell_type": "markdown",
   "metadata": {},
   "source": [
    "#### Creating the Testing Datasets"
   ]
  },
  {
   "cell_type": "code",
   "execution_count": 238,
   "metadata": {},
   "outputs": [
    {
     "data": {
      "text/html": [
       "<div>\n",
       "<style scoped>\n",
       "    .dataframe tbody tr th:only-of-type {\n",
       "        vertical-align: middle;\n",
       "    }\n",
       "\n",
       "    .dataframe tbody tr th {\n",
       "        vertical-align: top;\n",
       "    }\n",
       "\n",
       "    .dataframe thead th {\n",
       "        text-align: right;\n",
       "    }\n",
       "</style>\n",
       "<table border=\"1\" class=\"dataframe\">\n",
       "  <thead>\n",
       "    <tr style=\"text-align: right;\">\n",
       "      <th></th>\n",
       "      <th>sma_fast</th>\n",
       "      <th>sma_slow</th>\n",
       "    </tr>\n",
       "    <tr>\n",
       "      <th>datetime</th>\n",
       "      <th></th>\n",
       "      <th></th>\n",
       "    </tr>\n",
       "  </thead>\n",
       "  <tbody>\n",
       "    <tr>\n",
       "      <th>2019-09-19 00:00:00+00:00</th>\n",
       "      <td>10524.851472</td>\n",
       "      <td>8165.232394</td>\n",
       "    </tr>\n",
       "    <tr>\n",
       "      <th>2019-09-20 00:00:00+00:00</th>\n",
       "      <td>10520.490909</td>\n",
       "      <td>8197.356318</td>\n",
       "    </tr>\n",
       "    <tr>\n",
       "      <th>2019-09-21 00:00:00+00:00</th>\n",
       "      <td>10510.499681</td>\n",
       "      <td>8227.961461</td>\n",
       "    </tr>\n",
       "    <tr>\n",
       "      <th>2019-09-22 00:00:00+00:00</th>\n",
       "      <td>10495.424404</td>\n",
       "      <td>8258.779991</td>\n",
       "    </tr>\n",
       "    <tr>\n",
       "      <th>2019-09-23 00:00:00+00:00</th>\n",
       "      <td>10470.607194</td>\n",
       "      <td>8287.869189</td>\n",
       "    </tr>\n",
       "  </tbody>\n",
       "</table>\n",
       "</div>"
      ],
      "text/plain": [
       "                               sma_fast     sma_slow\n",
       "datetime                                            \n",
       "2019-09-19 00:00:00+00:00  10524.851472  8165.232394\n",
       "2019-09-20 00:00:00+00:00  10520.490909  8197.356318\n",
       "2019-09-21 00:00:00+00:00  10510.499681  8227.961461\n",
       "2019-09-22 00:00:00+00:00  10495.424404  8258.779991\n",
       "2019-09-23 00:00:00+00:00  10470.607194  8287.869189"
      ]
     },
     "execution_count": 238,
     "metadata": {},
     "output_type": "execute_result"
    }
   ],
   "source": [
    "# Generate the X_test and y_test DataFrames\n",
    "X_test = X.loc[training_end:]\n",
    "y_test = y.loc[training_end:]\n",
    "\n",
    "# Display sample data\n",
    "X_test.head()"
   ]
  },
  {
   "cell_type": "markdown",
   "metadata": {},
   "source": [
    "#### Standardizing the Data"
   ]
  },
  {
   "cell_type": "code",
   "execution_count": 239,
   "metadata": {},
   "outputs": [],
   "source": [
    "# Imports\n",
    "from sklearn.preprocessing import StandardScaler"
   ]
  },
  {
   "cell_type": "code",
   "execution_count": 240,
   "metadata": {},
   "outputs": [],
   "source": [
    "# Create a StandardScaler instance\n",
    "scaler = StandardScaler()\n",
    " \n",
    "# Apply the scaler model to fit the X-train data\n",
    "X_scaler = scaler.fit(X_train)\n",
    " \n",
    "# Transform the X_train and X_test DataFrames using the X_scaler\n",
    "X_train_scaled = X_scaler.transform(X_train)\n",
    "X_test_scaled = X_scaler.transform(X_test)"
   ]
  },
  {
   "cell_type": "markdown",
   "metadata": {},
   "source": [
    "---\n",
    "\n",
    "### Incorporate the SVM Machine Learning Into the Trading Strategy"
   ]
  },
  {
   "cell_type": "code",
   "execution_count": 241,
   "metadata": {},
   "outputs": [],
   "source": [
    "# Imports\n",
    "from sklearn import svm\n",
    "from sklearn.metrics import classification_report"
   ]
  },
  {
   "cell_type": "code",
   "execution_count": 242,
   "metadata": {},
   "outputs": [
    {
     "data": {
      "text/plain": [
       "array([1., 1., 1., 1., 1., 1., 1., 1., 1., 1.])"
      ]
     },
     "execution_count": 242,
     "metadata": {},
     "output_type": "execute_result"
    }
   ],
   "source": [
    "# Create the classifier model\n",
    "svm_model = svm.SVC()\n",
    " \n",
    "# Fit the model to the data using X_train_scaled and y_train\n",
    "svm_model = svm_model.fit(X_train_scaled, y_train)\n",
    "\n",
    "# Use the trained model to predict the trading signals for the training data\n",
    "training_signal_predictions = svm_model.predict(X_train_scaled)\n",
    "\n",
    "# Display the sample predictions\n",
    "training_signal_predictions[:10]"
   ]
  },
  {
   "cell_type": "code",
   "execution_count": 243,
   "metadata": {},
   "outputs": [
    {
     "name": "stdout",
     "output_type": "stream",
     "text": [
      "              precision    recall  f1-score   support\n",
      "\n",
      "        -1.0       0.62      0.52      0.56        46\n",
      "         1.0       0.59      0.68      0.63        47\n",
      "\n",
      "    accuracy                           0.60        93\n",
      "   macro avg       0.60      0.60      0.60        93\n",
      "weighted avg       0.60      0.60      0.60        93\n",
      "\n"
     ]
    }
   ],
   "source": [
    "# Evaluate the model using a classification report\n",
    "training_report = classification_report(y_train, training_signal_predictions)\n",
    "print(training_report)"
   ]
  },
  {
   "cell_type": "markdown",
   "metadata": {},
   "source": [
    "---\n",
    "\n",
    "### Backtesting a Machine Learning Trading Algorithm"
   ]
  },
  {
   "cell_type": "code",
   "execution_count": 244,
   "metadata": {},
   "outputs": [],
   "source": [
    "# Use the trained model to predict the trading signals for the testing data.\n",
    "testing_signal_predictions = svm_model.predict(X_test_scaled)"
   ]
  },
  {
   "cell_type": "code",
   "execution_count": 245,
   "metadata": {},
   "outputs": [
    {
     "name": "stdout",
     "output_type": "stream",
     "text": [
      "              precision    recall  f1-score   support\n",
      "\n",
      "        -1.0       0.53      0.14      0.22       381\n",
      "         1.0       0.53      0.89      0.67       424\n",
      "\n",
      "    accuracy                           0.53       805\n",
      "   macro avg       0.53      0.51      0.44       805\n",
      "weighted avg       0.53      0.53      0.45       805\n",
      "\n"
     ]
    }
   ],
   "source": [
    "# Evaluate the model's ability to predict the trading signal for the testing data\n",
    "svm_testing_report = classification_report(y_test, testing_signal_predictions)\n",
    "print(svm_testing_report)"
   ]
  },
  {
   "cell_type": "code",
   "execution_count": 246,
   "metadata": {},
   "outputs": [
    {
     "data": {
      "text/html": [
       "<div>\n",
       "<style scoped>\n",
       "    .dataframe tbody tr th:only-of-type {\n",
       "        vertical-align: middle;\n",
       "    }\n",
       "\n",
       "    .dataframe tbody tr th {\n",
       "        vertical-align: top;\n",
       "    }\n",
       "\n",
       "    .dataframe thead th {\n",
       "        text-align: right;\n",
       "    }\n",
       "</style>\n",
       "<table border=\"1\" class=\"dataframe\">\n",
       "  <thead>\n",
       "    <tr style=\"text-align: right;\">\n",
       "      <th></th>\n",
       "      <th>predicted_signal</th>\n",
       "      <th>actual_returns</th>\n",
       "      <th>trading_algorithm_returns</th>\n",
       "    </tr>\n",
       "    <tr>\n",
       "      <th>datetime</th>\n",
       "      <th></th>\n",
       "      <th></th>\n",
       "      <th></th>\n",
       "    </tr>\n",
       "  </thead>\n",
       "  <tbody>\n",
       "    <tr>\n",
       "      <th>2019-09-19 00:00:00+00:00</th>\n",
       "      <td>-1.0</td>\n",
       "      <td>0.006684</td>\n",
       "      <td>-0.006684</td>\n",
       "    </tr>\n",
       "    <tr>\n",
       "      <th>2019-09-20 00:00:00+00:00</th>\n",
       "      <td>-1.0</td>\n",
       "      <td>-0.008257</td>\n",
       "      <td>0.008257</td>\n",
       "    </tr>\n",
       "    <tr>\n",
       "      <th>2019-09-21 00:00:00+00:00</th>\n",
       "      <td>-1.0</td>\n",
       "      <td>-0.015904</td>\n",
       "      <td>0.015904</td>\n",
       "    </tr>\n",
       "    <tr>\n",
       "      <th>2019-09-22 00:00:00+00:00</th>\n",
       "      <td>-1.0</td>\n",
       "      <td>0.004815</td>\n",
       "      <td>-0.004815</td>\n",
       "    </tr>\n",
       "    <tr>\n",
       "      <th>2019-09-23 00:00:00+00:00</th>\n",
       "      <td>-1.0</td>\n",
       "      <td>-0.033635</td>\n",
       "      <td>0.033635</td>\n",
       "    </tr>\n",
       "  </tbody>\n",
       "</table>\n",
       "</div>"
      ],
      "text/plain": [
       "                           predicted_signal  actual_returns  \\\n",
       "datetime                                                      \n",
       "2019-09-19 00:00:00+00:00              -1.0        0.006684   \n",
       "2019-09-20 00:00:00+00:00              -1.0       -0.008257   \n",
       "2019-09-21 00:00:00+00:00              -1.0       -0.015904   \n",
       "2019-09-22 00:00:00+00:00              -1.0        0.004815   \n",
       "2019-09-23 00:00:00+00:00              -1.0       -0.033635   \n",
       "\n",
       "                           trading_algorithm_returns  \n",
       "datetime                                              \n",
       "2019-09-19 00:00:00+00:00                  -0.006684  \n",
       "2019-09-20 00:00:00+00:00                   0.008257  \n",
       "2019-09-21 00:00:00+00:00                   0.015904  \n",
       "2019-09-22 00:00:00+00:00                  -0.004815  \n",
       "2019-09-23 00:00:00+00:00                   0.033635  "
      ]
     },
     "metadata": {},
     "output_type": "display_data"
    },
    {
     "data": {
      "text/html": [
       "<div>\n",
       "<style scoped>\n",
       "    .dataframe tbody tr th:only-of-type {\n",
       "        vertical-align: middle;\n",
       "    }\n",
       "\n",
       "    .dataframe tbody tr th {\n",
       "        vertical-align: top;\n",
       "    }\n",
       "\n",
       "    .dataframe thead th {\n",
       "        text-align: right;\n",
       "    }\n",
       "</style>\n",
       "<table border=\"1\" class=\"dataframe\">\n",
       "  <thead>\n",
       "    <tr style=\"text-align: right;\">\n",
       "      <th></th>\n",
       "      <th>predicted_signal</th>\n",
       "      <th>actual_returns</th>\n",
       "      <th>trading_algorithm_returns</th>\n",
       "    </tr>\n",
       "    <tr>\n",
       "      <th>datetime</th>\n",
       "      <th></th>\n",
       "      <th></th>\n",
       "      <th></th>\n",
       "    </tr>\n",
       "  </thead>\n",
       "  <tbody>\n",
       "    <tr>\n",
       "      <th>2021-11-27 00:00:00+00:00</th>\n",
       "      <td>1.0</td>\n",
       "      <td>0.023247</td>\n",
       "      <td>0.023247</td>\n",
       "    </tr>\n",
       "    <tr>\n",
       "      <th>2021-11-28 00:00:00+00:00</th>\n",
       "      <td>1.0</td>\n",
       "      <td>0.044393</td>\n",
       "      <td>0.044393</td>\n",
       "    </tr>\n",
       "    <tr>\n",
       "      <th>2021-11-29 00:00:00+00:00</th>\n",
       "      <td>1.0</td>\n",
       "      <td>0.009749</td>\n",
       "      <td>0.009749</td>\n",
       "    </tr>\n",
       "    <tr>\n",
       "      <th>2021-11-30 00:00:00+00:00</th>\n",
       "      <td>1.0</td>\n",
       "      <td>-0.013859</td>\n",
       "      <td>-0.013859</td>\n",
       "    </tr>\n",
       "    <tr>\n",
       "      <th>2021-12-01 00:00:00+00:00</th>\n",
       "      <td>1.0</td>\n",
       "      <td>0.003937</td>\n",
       "      <td>0.003937</td>\n",
       "    </tr>\n",
       "  </tbody>\n",
       "</table>\n",
       "</div>"
      ],
      "text/plain": [
       "                           predicted_signal  actual_returns  \\\n",
       "datetime                                                      \n",
       "2021-11-27 00:00:00+00:00               1.0        0.023247   \n",
       "2021-11-28 00:00:00+00:00               1.0        0.044393   \n",
       "2021-11-29 00:00:00+00:00               1.0        0.009749   \n",
       "2021-11-30 00:00:00+00:00               1.0       -0.013859   \n",
       "2021-12-01 00:00:00+00:00               1.0        0.003937   \n",
       "\n",
       "                           trading_algorithm_returns  \n",
       "datetime                                              \n",
       "2021-11-27 00:00:00+00:00                   0.023247  \n",
       "2021-11-28 00:00:00+00:00                   0.044393  \n",
       "2021-11-29 00:00:00+00:00                   0.009749  \n",
       "2021-11-30 00:00:00+00:00                  -0.013859  \n",
       "2021-12-01 00:00:00+00:00                   0.003937  "
      ]
     },
     "metadata": {},
     "output_type": "display_data"
    }
   ],
   "source": [
    "# Create a new empty predictions DataFrame using code provided below.\n",
    "predictions_df = pd.DataFrame(index=X_test.index)\n",
    "predictions_df[\"predicted_signal\"] = testing_signal_predictions\n",
    "predictions_df[\"actual_returns\"] = trading_df[\"actual_returns\"]\n",
    "predictions_df[\"trading_algorithm_returns\"] = predictions_df[\"actual_returns\"] * predictions_df[\"predicted_signal\"]\n",
    "display(predictions_df.head())\n",
    "display(predictions_df.tail())"
   ]
  },
  {
   "cell_type": "code",
   "execution_count": 247,
   "metadata": {},
   "outputs": [
    {
     "data": {
      "text/plain": [
       "<AxesSubplot:xlabel='datetime'>"
      ]
     },
     "execution_count": 247,
     "metadata": {},
     "output_type": "execute_result"
    },
    {
     "data": {
      "image/png": "[encoded data removed]",
      "text/plain": [
       "<Figure size 432x288 with 1 Axes>"
      ]
     },
     "metadata": {
      "needs_background": "light"
     },
     "output_type": "display_data"
    }
   ],
   "source": [
    "# Calculate and plot the cumulative returns for the `actual_returns` and the `trading_algorithm_returns`\n",
    "(1 + predictions_df[[\"actual_returns\", \"trading_algorithm_returns\"]]).cumprod().plot()"
   ]
  },
  {
   "cell_type": "markdown",
   "metadata": {},
   "source": [
    "---\n",
    "\n",
    "# Add a New Machine Learning Model"
   ]
  },
  {
   "cell_type": "markdown",
   "metadata": {},
   "source": [
    "## Import the `LogisticRegression` model from scikit-learn.\n"
   ]
  },
  {
   "cell_type": "code",
   "execution_count": 248,
   "metadata": {},
   "outputs": [],
   "source": [
    "# Import LogisticRegression from sklearn\n",
    "from sklearn.linear_model import LogisticRegression"
   ]
  },
  {
   "cell_type": "code",
   "execution_count": 249,
   "metadata": {},
   "outputs": [],
   "source": [
    "# Create an instance of the LogisticRegression model\n",
    "logistic_regression_model = LogisticRegression()"
   ]
  },
  {
   "cell_type": "markdown",
   "metadata": {},
   "source": [
    "## Using the same training data that the SVM model used (`X_train_scaled` and `y_train`), fit the `LogisticRegression` model."
   ]
  },
  {
   "cell_type": "code",
   "execution_count": 250,
   "metadata": {},
   "outputs": [
    {
     "data": {
      "text/plain": [
       "LogisticRegression()"
      ]
     },
     "execution_count": 250,
     "metadata": {},
     "output_type": "execute_result"
    }
   ],
   "source": [
    "# Fit the LogisticRegression model\n",
    "logistic_regression_model.fit(X_train_scaled, y_train)"
   ]
  },
  {
   "cell_type": "markdown",
   "metadata": {},
   "source": [
    "## Use the trained model to predict the trading signals for the training data. Use the `classification_report` module to evaluate the model."
   ]
  },
  {
   "cell_type": "code",
   "execution_count": 251,
   "metadata": {},
   "outputs": [
    {
     "data": {
      "text/plain": [
       "array([ 1.,  1.,  1.,  1.,  1.,  1.,  1.,  1.,  1.,  1.,  1.,  1.,  1.,\n",
       "        1.,  1.,  1.,  1.,  1.,  1.,  1.,  1.,  1.,  1.,  1.,  1.,  1.,\n",
       "        1.,  1.,  1.,  1.,  1.,  1.,  1.,  1.,  1.,  1.,  1.,  1.,  1.,\n",
       "        1., -1., -1., -1., -1., -1., -1., -1., -1., -1., -1., -1., -1.,\n",
       "       -1., -1., -1., -1., -1., -1., -1., -1., -1., -1., -1., -1., -1.,\n",
       "       -1., -1., -1., -1., -1., -1., -1., -1., -1., -1., -1., -1., -1.,\n",
       "       -1., -1., -1., -1., -1., -1., -1., -1., -1., -1., -1., -1., -1.,\n",
       "       -1., -1.])"
      ]
     },
     "execution_count": 251,
     "metadata": {},
     "output_type": "execute_result"
    }
   ],
   "source": [
    "# Use the trained LogisticRegression model to predict the trading signals for the training data\n",
    "lr_training_signal_predictions = logistic_regression_model.predict(X_train_scaled)\n",
    "\n",
    "# Display the predictions\n",
    "lr_training_signal_predictions"
   ]
  },
  {
   "cell_type": "code",
   "execution_count": 252,
   "metadata": {},
   "outputs": [
    {
     "name": "stdout",
     "output_type": "stream",
     "text": [
      "              precision    recall  f1-score   support\n",
      "\n",
      "        -1.0       0.53      0.61      0.57        46\n",
      "         1.0       0.55      0.47      0.51        47\n",
      "\n",
      "    accuracy                           0.54        93\n",
      "   macro avg       0.54      0.54      0.54        93\n",
      "weighted avg       0.54      0.54      0.54        93\n",
      "\n"
     ]
    }
   ],
   "source": [
    "# Generate a classification report using the training data and the logistic regression model's predications\n",
    "lr_training_report = classification_report(y_train, lr_training_signal_predictions)\n",
    "\n",
    "# Review the classification report\n",
    "print(lr_training_report)"
   ]
  },
  {
   "cell_type": "markdown",
   "metadata": {},
   "source": [
    "## Backtest the `LogisticRegression` model using the testing data to evaluate its performance."
   ]
  },
  {
   "cell_type": "code",
   "execution_count": 253,
   "metadata": {},
   "outputs": [],
   "source": [
    "# Use the trained model to predict the trading signals for the testing data.\n",
    "lr_testing_signal_predictions = logistic_regression_model.predict(X_test_scaled)"
   ]
  },
  {
   "cell_type": "code",
   "execution_count": 254,
   "metadata": {},
   "outputs": [
    {
     "name": "stdout",
     "output_type": "stream",
     "text": [
      "              precision    recall  f1-score   support\n",
      "\n",
      "        -1.0       0.48      0.91      0.62       381\n",
      "         1.0       0.55      0.10      0.17       424\n",
      "\n",
      "    accuracy                           0.48       805\n",
      "   macro avg       0.51      0.50      0.40       805\n",
      "weighted avg       0.51      0.48      0.38       805\n",
      "\n"
     ]
    }
   ],
   "source": [
    "# Generate a classification report using the testing data and the logistic regression model's predictions\n",
    "lr_testing_report = classification_report(y_test, lr_testing_signal_predictions)\n",
    "\n",
    "# Review the testing classification report\n",
    "print(lr_testing_report)"
   ]
  },
  {
   "cell_type": "markdown",
   "metadata": {},
   "source": [
    "## Compare the performance of the logistic regression and SVM models using the classification reports generated with the testing data. "
   ]
  },
  {
   "cell_type": "code",
   "execution_count": 255,
   "metadata": {},
   "outputs": [
    {
     "name": "stdout",
     "output_type": "stream",
     "text": [
      "Logistic Regression Classification Report\n",
      "              precision    recall  f1-score   support\n",
      "\n",
      "        -1.0       0.48      0.91      0.62       381\n",
      "         1.0       0.55      0.10      0.17       424\n",
      "\n",
      "    accuracy                           0.48       805\n",
      "   macro avg       0.51      0.50      0.40       805\n",
      "weighted avg       0.51      0.48      0.38       805\n",
      "\n"
     ]
    }
   ],
   "source": [
    "# Print the classification report for the Logistic Regression model using the test data\n",
    "print(\"Logistic Regression Classification Report\")\n",
    "print(lr_testing_report)"
   ]
  },
  {
   "cell_type": "code",
   "execution_count": 256,
   "metadata": {},
   "outputs": [
    {
     "name": "stdout",
     "output_type": "stream",
     "text": [
      "SVM Classification Report\n",
      "              precision    recall  f1-score   support\n",
      "\n",
      "        -1.0       0.53      0.14      0.22       381\n",
      "         1.0       0.53      0.89      0.67       424\n",
      "\n",
      "    accuracy                           0.53       805\n",
      "   macro avg       0.53      0.51      0.44       805\n",
      "weighted avg       0.53      0.53      0.45       805\n",
      "\n"
     ]
    }
   ],
   "source": [
    "# Print the classification report for the SVM model using the test data\n",
    "print(\"SVM Classification Report\")\n",
    "print(svm_testing_report)"
   ]
  },
  {
   "cell_type": "markdown",
   "metadata": {},
   "source": [
    "### Answer the following question:"
   ]
  },
  {
   "cell_type": "markdown",
   "metadata": {},
   "source": [
    "**Question:** Did the `LogisticRegression` perform better than the `SVM`?\n",
    "\n",
    "**Answer:** No! The SVM model performs a bit better than the logistic regression model since it has a higher accuracy score (53% to 48%)."
   ]
  }
 ],
 "metadata": {
  "kernelspec": {
   "display_name": "Python 3 (ipykernel)",
   "language": "python",
   "name": "python3"
  },
  "language_info": {
   "codemirror_mode": {
    "name": "ipython",
    "version": 3
   },
   "file_extension": ".py",
   "mimetype": "text/x-python",
   "name": "python",
   "nbconvert_exporter": "python",
   "pygments_lexer": "ipython3",
   "version": "3.8.8"
  }
 },
 "nbformat": 4,
 "nbformat_minor": 4
}
